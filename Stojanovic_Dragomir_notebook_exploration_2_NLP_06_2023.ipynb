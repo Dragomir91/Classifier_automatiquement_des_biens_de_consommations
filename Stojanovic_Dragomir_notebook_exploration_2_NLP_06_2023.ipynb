{
 "cells": [
  {
   "cell_type": "markdown",
   "id": "ba67eb91",
   "metadata": {},
   "source": [
    "## 1 Prétraitement des données \n",
    "\n",
    "    - 1.1 création de tokens\n",
    "    - 1.2 suppression de la ponctuation (stop words)\n",
    "    - 1.3 racinisation du mots \n",
    " \n",
    "## 2 Word embeeding\n",
    "        \n",
    "    - 3.1 Classification du texte avec word2vec\n",
    "    - 3.2 Classification du texte avec BERT\n",
    "    - 3.3 Classification du texte avec USE"
   ]
  },
  {
   "cell_type": "code",
   "execution_count": 1,
   "id": "a4c0fb75",
   "metadata": {},
   "outputs": [],
   "source": [
    "import torch"
   ]
  },
  {
   "cell_type": "code",
   "execution_count": 2,
   "id": "3f5d69ea",
   "metadata": {},
   "outputs": [],
   "source": [
    "import tensorflow as tf\n",
    "import transformers\n",
    "from transformers import BertTokenizer, BertForSequenceClassification, AdamW\n"
   ]
  },
  {
   "cell_type": "code",
   "execution_count": 3,
   "id": "11a7dde5",
   "metadata": {},
   "outputs": [],
   "source": [
    "import gensim\n",
    "from gensim.models import Word2Vec\n",
    "from nltk.stem import WordNetLemmatizer\n",
    "import tensorflow_hub as hub\n",
    "import pandas as pd\n",
    "import numpy as np\n",
    "import matplotlib.pyplot as plt\n",
    "import seaborn as sns\n",
    "import missingno as msno\n",
    "import time\n",
    "%matplotlib inline\n",
    "import os\n",
    "from os import listdir\n",
    "from sklearn.model_selection import train_test_split\n",
    "from sklearn.metrics import accuracy_score, auc, roc_auc_score, roc_curve, classification_report\n"
   ]
  },
  {
   "cell_type": "code",
   "execution_count": 4,
   "id": "dfb474c5",
   "metadata": {},
   "outputs": [],
   "source": [
    "import tensorflow_hub as hub"
   ]
  },
  {
   "cell_type": "code",
   "execution_count": 5,
   "id": "1a4e6cbd",
   "metadata": {},
   "outputs": [],
   "source": [
    "df = pd.read_csv('Source/flipkart_com-ecommerce_sample_1050.csv',sep=',')"
   ]
  },
  {
   "cell_type": "code",
   "execution_count": 6,
   "id": "42bbd83b",
   "metadata": {},
   "outputs": [
    {
     "data": {
      "text/html": [
       "<div>\n",
       "<style scoped>\n",
       "    .dataframe tbody tr th:only-of-type {\n",
       "        vertical-align: middle;\n",
       "    }\n",
       "\n",
       "    .dataframe tbody tr th {\n",
       "        vertical-align: top;\n",
       "    }\n",
       "\n",
       "    .dataframe thead th {\n",
       "        text-align: right;\n",
       "    }\n",
       "</style>\n",
       "<table border=\"1\" class=\"dataframe\">\n",
       "  <thead>\n",
       "    <tr style=\"text-align: right;\">\n",
       "      <th></th>\n",
       "      <th>uniq_id</th>\n",
       "      <th>crawl_timestamp</th>\n",
       "      <th>product_url</th>\n",
       "      <th>product_name</th>\n",
       "      <th>product_category_tree</th>\n",
       "      <th>pid</th>\n",
       "      <th>retail_price</th>\n",
       "      <th>discounted_price</th>\n",
       "      <th>image</th>\n",
       "      <th>is_FK_Advantage_product</th>\n",
       "      <th>description</th>\n",
       "      <th>product_rating</th>\n",
       "      <th>overall_rating</th>\n",
       "      <th>brand</th>\n",
       "      <th>product_specifications</th>\n",
       "    </tr>\n",
       "  </thead>\n",
       "  <tbody>\n",
       "    <tr>\n",
       "      <th>0</th>\n",
       "      <td>55b85ea15a1536d46b7190ad6fff8ce7</td>\n",
       "      <td>2016-04-30 03:22:56 +0000</td>\n",
       "      <td>http://www.flipkart.com/elegance-polyester-mul...</td>\n",
       "      <td>Elegance Polyester Multicolor Abstract Eyelet ...</td>\n",
       "      <td>[\"Home Furnishing &gt;&gt; Curtains &amp; Accessories &gt;&gt;...</td>\n",
       "      <td>CRNEG7BKMFFYHQ8Z</td>\n",
       "      <td>1899.0</td>\n",
       "      <td>899.0</td>\n",
       "      <td>55b85ea15a1536d46b7190ad6fff8ce7.jpg</td>\n",
       "      <td>False</td>\n",
       "      <td>Key Features of Elegance Polyester Multicolor ...</td>\n",
       "      <td>No rating available</td>\n",
       "      <td>No rating available</td>\n",
       "      <td>Elegance</td>\n",
       "      <td>{\"product_specification\"=&gt;[{\"key\"=&gt;\"Brand\", \"v...</td>\n",
       "    </tr>\n",
       "    <tr>\n",
       "      <th>1</th>\n",
       "      <td>7b72c92c2f6c40268628ec5f14c6d590</td>\n",
       "      <td>2016-04-30 03:22:56 +0000</td>\n",
       "      <td>http://www.flipkart.com/sathiyas-cotton-bath-t...</td>\n",
       "      <td>Sathiyas Cotton Bath Towel</td>\n",
       "      <td>[\"Baby Care &gt;&gt; Baby Bath &amp; Skin &gt;&gt; Baby Bath T...</td>\n",
       "      <td>BTWEGFZHGBXPHZUH</td>\n",
       "      <td>600.0</td>\n",
       "      <td>449.0</td>\n",
       "      <td>7b72c92c2f6c40268628ec5f14c6d590.jpg</td>\n",
       "      <td>False</td>\n",
       "      <td>Specifications of Sathiyas Cotton Bath Towel (...</td>\n",
       "      <td>No rating available</td>\n",
       "      <td>No rating available</td>\n",
       "      <td>Sathiyas</td>\n",
       "      <td>{\"product_specification\"=&gt;[{\"key\"=&gt;\"Machine Wa...</td>\n",
       "    </tr>\n",
       "    <tr>\n",
       "      <th>2</th>\n",
       "      <td>64d5d4a258243731dc7bbb1eef49ad74</td>\n",
       "      <td>2016-04-30 03:22:56 +0000</td>\n",
       "      <td>http://www.flipkart.com/eurospa-cotton-terry-f...</td>\n",
       "      <td>Eurospa Cotton Terry Face Towel Set</td>\n",
       "      <td>[\"Baby Care &gt;&gt; Baby Bath &amp; Skin &gt;&gt; Baby Bath T...</td>\n",
       "      <td>BTWEG6SHXTDB2A2Y</td>\n",
       "      <td>NaN</td>\n",
       "      <td>NaN</td>\n",
       "      <td>64d5d4a258243731dc7bbb1eef49ad74.jpg</td>\n",
       "      <td>False</td>\n",
       "      <td>Key Features of Eurospa Cotton Terry Face Towe...</td>\n",
       "      <td>No rating available</td>\n",
       "      <td>No rating available</td>\n",
       "      <td>Eurospa</td>\n",
       "      <td>{\"product_specification\"=&gt;[{\"key\"=&gt;\"Material\",...</td>\n",
       "    </tr>\n",
       "  </tbody>\n",
       "</table>\n",
       "</div>"
      ],
      "text/plain": [
       "                            uniq_id            crawl_timestamp  \\\n",
       "0  55b85ea15a1536d46b7190ad6fff8ce7  2016-04-30 03:22:56 +0000   \n",
       "1  7b72c92c2f6c40268628ec5f14c6d590  2016-04-30 03:22:56 +0000   \n",
       "2  64d5d4a258243731dc7bbb1eef49ad74  2016-04-30 03:22:56 +0000   \n",
       "\n",
       "                                         product_url  \\\n",
       "0  http://www.flipkart.com/elegance-polyester-mul...   \n",
       "1  http://www.flipkart.com/sathiyas-cotton-bath-t...   \n",
       "2  http://www.flipkart.com/eurospa-cotton-terry-f...   \n",
       "\n",
       "                                        product_name  \\\n",
       "0  Elegance Polyester Multicolor Abstract Eyelet ...   \n",
       "1                         Sathiyas Cotton Bath Towel   \n",
       "2                Eurospa Cotton Terry Face Towel Set   \n",
       "\n",
       "                               product_category_tree               pid  \\\n",
       "0  [\"Home Furnishing >> Curtains & Accessories >>...  CRNEG7BKMFFYHQ8Z   \n",
       "1  [\"Baby Care >> Baby Bath & Skin >> Baby Bath T...  BTWEGFZHGBXPHZUH   \n",
       "2  [\"Baby Care >> Baby Bath & Skin >> Baby Bath T...  BTWEG6SHXTDB2A2Y   \n",
       "\n",
       "   retail_price  discounted_price                                 image  \\\n",
       "0        1899.0             899.0  55b85ea15a1536d46b7190ad6fff8ce7.jpg   \n",
       "1         600.0             449.0  7b72c92c2f6c40268628ec5f14c6d590.jpg   \n",
       "2           NaN               NaN  64d5d4a258243731dc7bbb1eef49ad74.jpg   \n",
       "\n",
       "   is_FK_Advantage_product                                        description  \\\n",
       "0                    False  Key Features of Elegance Polyester Multicolor ...   \n",
       "1                    False  Specifications of Sathiyas Cotton Bath Towel (...   \n",
       "2                    False  Key Features of Eurospa Cotton Terry Face Towe...   \n",
       "\n",
       "        product_rating       overall_rating     brand  \\\n",
       "0  No rating available  No rating available  Elegance   \n",
       "1  No rating available  No rating available  Sathiyas   \n",
       "2  No rating available  No rating available   Eurospa   \n",
       "\n",
       "                              product_specifications  \n",
       "0  {\"product_specification\"=>[{\"key\"=>\"Brand\", \"v...  \n",
       "1  {\"product_specification\"=>[{\"key\"=>\"Machine Wa...  \n",
       "2  {\"product_specification\"=>[{\"key\"=>\"Material\",...  "
      ]
     },
     "execution_count": 6,
     "metadata": {},
     "output_type": "execute_result"
    }
   ],
   "source": [
    "df.head(3)"
   ]
  },
  {
   "cell_type": "code",
   "execution_count": 7,
   "id": "161c2a92",
   "metadata": {},
   "outputs": [
    {
     "data": {
      "text/html": [
       "<div>\n",
       "<style scoped>\n",
       "    .dataframe tbody tr th:only-of-type {\n",
       "        vertical-align: middle;\n",
       "    }\n",
       "\n",
       "    .dataframe tbody tr th {\n",
       "        vertical-align: top;\n",
       "    }\n",
       "\n",
       "    .dataframe thead th {\n",
       "        text-align: right;\n",
       "    }\n",
       "</style>\n",
       "<table border=\"1\" class=\"dataframe\">\n",
       "  <thead>\n",
       "    <tr style=\"text-align: right;\">\n",
       "      <th></th>\n",
       "      <th>product_name</th>\n",
       "      <th>product_category_tree</th>\n",
       "      <th>description</th>\n",
       "      <th>brand</th>\n",
       "    </tr>\n",
       "  </thead>\n",
       "  <tbody>\n",
       "    <tr>\n",
       "      <th>0</th>\n",
       "      <td>Elegance Polyester Multicolor Abstract Eyelet ...</td>\n",
       "      <td>[\"Home Furnishing &gt;&gt; Curtains &amp; Accessories &gt;&gt;...</td>\n",
       "      <td>Key Features of Elegance Polyester Multicolor ...</td>\n",
       "      <td>Elegance</td>\n",
       "    </tr>\n",
       "    <tr>\n",
       "      <th>1</th>\n",
       "      <td>Sathiyas Cotton Bath Towel</td>\n",
       "      <td>[\"Baby Care &gt;&gt; Baby Bath &amp; Skin &gt;&gt; Baby Bath T...</td>\n",
       "      <td>Specifications of Sathiyas Cotton Bath Towel (...</td>\n",
       "      <td>Sathiyas</td>\n",
       "    </tr>\n",
       "    <tr>\n",
       "      <th>2</th>\n",
       "      <td>Eurospa Cotton Terry Face Towel Set</td>\n",
       "      <td>[\"Baby Care &gt;&gt; Baby Bath &amp; Skin &gt;&gt; Baby Bath T...</td>\n",
       "      <td>Key Features of Eurospa Cotton Terry Face Towe...</td>\n",
       "      <td>Eurospa</td>\n",
       "    </tr>\n",
       "    <tr>\n",
       "      <th>3</th>\n",
       "      <td>SANTOSH ROYAL FASHION Cotton Printed King size...</td>\n",
       "      <td>[\"Home Furnishing &gt;&gt; Bed Linen &gt;&gt; Bedsheets &gt;&gt;...</td>\n",
       "      <td>Key Features of SANTOSH ROYAL FASHION Cotton P...</td>\n",
       "      <td>SANTOSH ROYAL FASHION</td>\n",
       "    </tr>\n",
       "    <tr>\n",
       "      <th>4</th>\n",
       "      <td>Jaipur Print Cotton Floral King sized Double B...</td>\n",
       "      <td>[\"Home Furnishing &gt;&gt; Bed Linen &gt;&gt; Bedsheets &gt;&gt;...</td>\n",
       "      <td>Key Features of Jaipur Print Cotton Floral Kin...</td>\n",
       "      <td>Jaipur Print</td>\n",
       "    </tr>\n",
       "    <tr>\n",
       "      <th>...</th>\n",
       "      <td>...</td>\n",
       "      <td>...</td>\n",
       "      <td>...</td>\n",
       "      <td>...</td>\n",
       "    </tr>\n",
       "    <tr>\n",
       "      <th>1045</th>\n",
       "      <td>Oren Empower Extra Large Self Adhesive Sticker</td>\n",
       "      <td>[\"Baby Care &gt;&gt; Baby &amp; Kids Gifts &gt;&gt; Stickers &gt;...</td>\n",
       "      <td>Oren Empower Extra Large Self Adhesive Sticker...</td>\n",
       "      <td>Oren Empower</td>\n",
       "    </tr>\n",
       "    <tr>\n",
       "      <th>1046</th>\n",
       "      <td>Wallmantra Large Vinyl Sticker Sticker</td>\n",
       "      <td>[\"Baby Care &gt;&gt; Baby &amp; Kids Gifts &gt;&gt; Stickers &gt;...</td>\n",
       "      <td>Wallmantra Large Vinyl Sticker Sticker (Pack o...</td>\n",
       "      <td>Wallmantra</td>\n",
       "    </tr>\n",
       "    <tr>\n",
       "      <th>1047</th>\n",
       "      <td>Uberlyfe Extra Large Pigmented Polyvinyl Films...</td>\n",
       "      <td>[\"Baby Care &gt;&gt; Baby &amp; Kids Gifts &gt;&gt; Stickers &gt;...</td>\n",
       "      <td>Buy Uberlyfe Extra Large Pigmented Polyvinyl F...</td>\n",
       "      <td>Uberlyfe</td>\n",
       "    </tr>\n",
       "    <tr>\n",
       "      <th>1048</th>\n",
       "      <td>Wallmantra Medium Vinyl Sticker Sticker</td>\n",
       "      <td>[\"Baby Care &gt;&gt; Baby &amp; Kids Gifts &gt;&gt; Stickers &gt;...</td>\n",
       "      <td>Buy Wallmantra Medium Vinyl Sticker Sticker fo...</td>\n",
       "      <td>Wallmantra</td>\n",
       "    </tr>\n",
       "    <tr>\n",
       "      <th>1049</th>\n",
       "      <td>Uberlyfe Large Vinyl Sticker</td>\n",
       "      <td>[\"Baby Care &gt;&gt; Baby &amp; Kids Gifts &gt;&gt; Stickers &gt;...</td>\n",
       "      <td>Buy Uberlyfe Large Vinyl Sticker for Rs.595 on...</td>\n",
       "      <td>Uberlyfe</td>\n",
       "    </tr>\n",
       "  </tbody>\n",
       "</table>\n",
       "<p>1050 rows × 4 columns</p>\n",
       "</div>"
      ],
      "text/plain": [
       "                                           product_name  \\\n",
       "0     Elegance Polyester Multicolor Abstract Eyelet ...   \n",
       "1                            Sathiyas Cotton Bath Towel   \n",
       "2                   Eurospa Cotton Terry Face Towel Set   \n",
       "3     SANTOSH ROYAL FASHION Cotton Printed King size...   \n",
       "4     Jaipur Print Cotton Floral King sized Double B...   \n",
       "...                                                 ...   \n",
       "1045     Oren Empower Extra Large Self Adhesive Sticker   \n",
       "1046             Wallmantra Large Vinyl Sticker Sticker   \n",
       "1047  Uberlyfe Extra Large Pigmented Polyvinyl Films...   \n",
       "1048            Wallmantra Medium Vinyl Sticker Sticker   \n",
       "1049                       Uberlyfe Large Vinyl Sticker   \n",
       "\n",
       "                                  product_category_tree  \\\n",
       "0     [\"Home Furnishing >> Curtains & Accessories >>...   \n",
       "1     [\"Baby Care >> Baby Bath & Skin >> Baby Bath T...   \n",
       "2     [\"Baby Care >> Baby Bath & Skin >> Baby Bath T...   \n",
       "3     [\"Home Furnishing >> Bed Linen >> Bedsheets >>...   \n",
       "4     [\"Home Furnishing >> Bed Linen >> Bedsheets >>...   \n",
       "...                                                 ...   \n",
       "1045  [\"Baby Care >> Baby & Kids Gifts >> Stickers >...   \n",
       "1046  [\"Baby Care >> Baby & Kids Gifts >> Stickers >...   \n",
       "1047  [\"Baby Care >> Baby & Kids Gifts >> Stickers >...   \n",
       "1048  [\"Baby Care >> Baby & Kids Gifts >> Stickers >...   \n",
       "1049  [\"Baby Care >> Baby & Kids Gifts >> Stickers >...   \n",
       "\n",
       "                                            description                  brand  \n",
       "0     Key Features of Elegance Polyester Multicolor ...               Elegance  \n",
       "1     Specifications of Sathiyas Cotton Bath Towel (...               Sathiyas  \n",
       "2     Key Features of Eurospa Cotton Terry Face Towe...                Eurospa  \n",
       "3     Key Features of SANTOSH ROYAL FASHION Cotton P...  SANTOSH ROYAL FASHION  \n",
       "4     Key Features of Jaipur Print Cotton Floral Kin...           Jaipur Print  \n",
       "...                                                 ...                    ...  \n",
       "1045  Oren Empower Extra Large Self Adhesive Sticker...           Oren Empower  \n",
       "1046  Wallmantra Large Vinyl Sticker Sticker (Pack o...             Wallmantra  \n",
       "1047  Buy Uberlyfe Extra Large Pigmented Polyvinyl F...               Uberlyfe  \n",
       "1048  Buy Wallmantra Medium Vinyl Sticker Sticker fo...             Wallmantra  \n",
       "1049  Buy Uberlyfe Large Vinyl Sticker for Rs.595 on...               Uberlyfe  \n",
       "\n",
       "[1050 rows x 4 columns]"
      ]
     },
     "execution_count": 7,
     "metadata": {},
     "output_type": "execute_result"
    }
   ],
   "source": [
    "# premier notebook NLP 40 % \n",
    "# deux parties : texte (données non structurées)\n",
    "# deuxième notebook image 40 % \n",
    "\n",
    "cols = ['product_name',\n",
    "        'product_category_tree',\n",
    "        'description',\n",
    "        'brand']\n",
    "\n",
    "df_texte = df.loc[:,cols]\n",
    "df_texte"
   ]
  },
  {
   "cell_type": "code",
   "execution_count": 8,
   "id": "a52f9eb9",
   "metadata": {},
   "outputs": [
    {
     "name": "stderr",
     "output_type": "stream",
     "text": [
      "[nltk_data] Downloading package punkt to\n",
      "[nltk_data]     C:\\Users\\Dragomir\\AppData\\Roaming\\nltk_data...\n",
      "[nltk_data]   Package punkt is already up-to-date!\n"
     ]
    }
   ],
   "source": [
    "# lire des caractère sur une image\n",
    "import nltk\n",
    "nltk.download('punkt')\n",
    "tokenizer = nltk.RegexpTokenizer(r'\\w+')\n",
    "token = np.array(df_texte.product_category_tree)\n",
    "\n",
    "token = [tokenizer.tokenize(i.lower()) for i in token]\n",
    "\n",
    "bigram = [list(nltk.bigrams(bigram)) for bigram in token]\n",
    "\n",
    "token_bigram = pd.Series(bigram)\n",
    "\n",
    "cat_name = np.array([token_bigram[i][0] for i in range(len(token_bigram))])\n",
    "\n",
    "    "
   ]
  },
  {
   "cell_type": "code",
   "execution_count": 9,
   "id": "730fa529",
   "metadata": {},
   "outputs": [],
   "source": [
    "# Les documents sont répartis en 6 classes\n",
    "\n",
    "df_token = pd.DataFrame(cat_name, columns=['cat1','cat2'])\n",
    "df_token.loc[df_token.cat1 == 'baby','cat1'] = 'baby_care'\n",
    "df_token = df_token.cat1"
   ]
  },
  {
   "cell_type": "code",
   "execution_count": 10,
   "id": "f8542565",
   "metadata": {},
   "outputs": [],
   "source": [
    "df_texte['category_name'] = df_token"
   ]
  },
  {
   "cell_type": "code",
   "execution_count": 11,
   "id": "cb1abc2e",
   "metadata": {},
   "outputs": [],
   "source": [
    "df_texte.loc[df_texte.category_name == 'computers laptops','category_name'] = 'computers laptop'"
   ]
  },
  {
   "cell_type": "code",
   "execution_count": 12,
   "id": "13b795d3",
   "metadata": {},
   "outputs": [],
   "source": [
    "token2 = np.array(df_texte.description)\n",
    "token2 = [tokenizer.tokenize(i.lower()) for i in token2]"
   ]
  },
  {
   "cell_type": "code",
   "execution_count": 13,
   "id": "9d6a92b3",
   "metadata": {},
   "outputs": [
    {
     "name": "stderr",
     "output_type": "stream",
     "text": [
      "[nltk_data] Downloading package stopwords to\n",
      "[nltk_data]     C:\\Users\\Dragomir\\AppData\\Roaming\\nltk_data...\n",
      "[nltk_data]   Package stopwords is already up-to-date!\n"
     ]
    },
    {
     "data": {
      "text/plain": [
       "True"
      ]
     },
     "execution_count": 13,
     "metadata": {},
     "output_type": "execute_result"
    }
   ],
   "source": [
    "nltk.download('stopwords')"
   ]
  },
  {
   "cell_type": "code",
   "execution_count": 14,
   "id": "62d5905c",
   "metadata": {},
   "outputs": [],
   "source": [
    "sw = set()\n",
    "sw.update(tuple(nltk.corpus.stopwords.words('english')))"
   ]
  },
  {
   "cell_type": "code",
   "execution_count": 15,
   "id": "3e1d1b0f",
   "metadata": {},
   "outputs": [],
   "source": [
    "descript_sw = [[idx for idx in token if idx not in sw] for token in token2]"
   ]
  },
  {
   "cell_type": "markdown",
   "id": "e6e5b966",
   "metadata": {},
   "source": [
    "## 2 Word embeding\n",
    "### 2.1 Word2vec"
   ]
  },
  {
   "cell_type": "code",
   "execution_count": 18,
   "id": "4e0dae0b",
   "metadata": {},
   "outputs": [],
   "source": [
    "import gensim\n",
    "from gensim.models import Word2Vec\n",
    "from sklearn import preprocessing"
   ]
  },
  {
   "cell_type": "code",
   "execution_count": 19,
   "id": "602ddd5c",
   "metadata": {},
   "outputs": [
    {
     "data": {
      "text/plain": [
       "home         300\n",
       "baby_care    150\n",
       "watches      150\n",
       "kitchen      150\n",
       "beauty       150\n",
       "computers    150\n",
       "Name: category_name, dtype: int64"
      ]
     },
     "execution_count": 19,
     "metadata": {},
     "output_type": "execute_result"
    }
   ],
   "source": [
    "# preprocessing encodage des données\n",
    "encodage = preprocessing.LabelEncoder()\n",
    "encodage.fit(df_texte.category_name)\n",
    "df_texte[\"label_cat1\"] = encodage.transform(df_texte.category_name)\n",
    "# data.head(5)\n",
    "df_texte.category_name.value_counts()"
   ]
  },
  {
   "cell_type": "code",
   "execution_count": 20,
   "id": "4bb09a9f",
   "metadata": {},
   "outputs": [
    {
     "name": "stderr",
     "output_type": "stream",
     "text": [
      "[nltk_data] Downloading package wordnet to\n",
      "[nltk_data]     C:\\Users\\Dragomir\\AppData\\Roaming\\nltk_data...\n",
      "[nltk_data]   Package wordnet is already up-to-date!\n",
      "[nltk_data] Downloading package omw-1.4 to\n",
      "[nltk_data]     C:\\Users\\Dragomir\\AppData\\Roaming\\nltk_data...\n",
      "[nltk_data]   Package omw-1.4 is already up-to-date!\n"
     ]
    },
    {
     "data": {
      "text/plain": [
       "'curtain'"
      ]
     },
     "execution_count": 20,
     "metadata": {},
     "output_type": "execute_result"
    }
   ],
   "source": [
    "nltk.download('wordnet')\n",
    "nltk.download('omw-1.4')\n",
    "from nltk.stem import WordNetLemmatizer\n",
    "\n",
    "lemmatizer = WordNetLemmatizer()\n",
    "\n",
    "Lemmatise_corpus = [[lemmatizer.lemmatize(Lemma) for Lemma in descript_sw[idx]] for idx in range(len(descript_sw))]\n",
    "\n",
    "Lemmatise_corpus[0][10]"
   ]
  },
  {
   "cell_type": "code",
   "execution_count": 22,
   "id": "28d34899",
   "metadata": {},
   "outputs": [
    {
     "name": "stderr",
     "output_type": "stream",
     "text": [
      "[nltk_data] Downloading package wordnet to\n",
      "[nltk_data]     C:\\Users\\Dragomir\\AppData\\Roaming\\nltk_data...\n",
      "[nltk_data]   Package wordnet is already up-to-date!\n",
      "[nltk_data] Downloading package omw-1.4 to\n",
      "[nltk_data]     C:\\Users\\Dragomir\\AppData\\Roaming\\nltk_data...\n",
      "[nltk_data]   Package omw-1.4 is already up-to-date!\n"
     ]
    },
    {
     "data": {
      "text/plain": [
       "'curtain'"
      ]
     },
     "execution_count": 22,
     "metadata": {},
     "output_type": "execute_result"
    }
   ],
   "source": [
    "nltk.download('wordnet')\n",
    "nltk.download('omw-1.4')\n",
    "from nltk.stem import WordNetLemmatizer\n",
    "\n",
    "lemmatizer = WordNetLemmatizer()\n",
    "\n",
    "Lemmatise_corpus = [[lemmatizer.lemmatize(Lemma) for Lemma in Stem_word2[idx]] for idx in range(len(Stem_word2))]\n",
    "\n",
    "Lemmatise_corpus[0][10]\n",
    "                                        "
   ]
  },
  {
   "cell_type": "code",
   "execution_count": 21,
   "id": "4deb37ff",
   "metadata": {},
   "outputs": [],
   "source": [
    "model = Word2Vec(Lemmatise_corpus, min_count=1,hs=1,negative=0,sg=0,epochs=5)  # min_count spécifie la fréquence minimale d'un mot pour être inclus dans le modèle"
   ]
  },
  {
   "cell_type": "code",
   "execution_count": 22,
   "id": "6cf3daa0",
   "metadata": {},
   "outputs": [
    {
     "data": {
      "text/plain": [
       "[('gifting', 0.8180132508277893),\n",
       " ('crafted', 0.7532199621200562),\n",
       " ('look', 0.7351768612861633),\n",
       " ('wood', 0.7313286662101746),\n",
       " ('express', 0.7120227217674255),\n",
       " ('gift', 0.7108761072158813),\n",
       " ('pic', 0.7059637904167175),\n",
       " ('trend', 0.6966291069984436),\n",
       " ('bring', 0.6710289716720581),\n",
       " ('one', 0.6704117059707642)]"
      ]
     },
     "execution_count": 22,
     "metadata": {},
     "output_type": "execute_result"
    }
   ],
   "source": [
    "model.wv.most_similar('home')"
   ]
  },
  {
   "cell_type": "code",
   "execution_count": 24,
   "id": "0c571663",
   "metadata": {},
   "outputs": [
    {
     "data": {
      "text/plain": [
       "[['home'], ['baby_care'], ['watches'], ['kitchen'], ['beauty'], ['computers']]"
      ]
     },
     "execution_count": 24,
     "metadata": {},
     "output_type": "execute_result"
    }
   ],
   "source": [
    "category_name = [tokenizer.tokenize(i) for i in df_texte.category_name.unique()]\n",
    "category_name"
   ]
  },
  {
   "cell_type": "code",
   "execution_count": 25,
   "id": "fada6bed",
   "metadata": {},
   "outputs": [],
   "source": [
    "documents = Lemmatise_corpus\n",
    "\n",
    "# Initialize an empty array to store document vectors\n",
    "document_vectors = np.zeros((len(documents), model.vector_size))\n",
    "tab = []\n",
    "save = [tab.append(len(doc)) for doc in documents]\n"
   ]
  },
  {
   "cell_type": "code",
   "execution_count": 26,
   "id": "8b4de6ae",
   "metadata": {},
   "outputs": [],
   "source": [
    "# récupére tous les vecteurs \n",
    "def wvector(corpus,model):\n",
    "    # List of documents\n",
    "    documents = corpus\n",
    "\n",
    "    # Initialize an empty array to store document vectors\n",
    "    document_vectors = np.zeros((len(documents), model.vector_size))\n",
    "    # Iterate over each document\n",
    "\n",
    "    for i, doc in enumerate(documents):\n",
    "        # Split the document into individual words\n",
    "        words = doc\n",
    "        # Initialize an empty array to store word vectors\n",
    "        word_vectors = np.zeros((len(words), model.vector_size))\n",
    "\n",
    "        #document_vectors = np.zeros((len(documents), model.vector_size))\n",
    "\n",
    "        # Iterate over each word in the document\n",
    "        for j, word in enumerate(words):\n",
    "            # Check if the word is in the vocabulary of the model\n",
    "            if word in model.wv.index_to_key:\n",
    "                # Get the word vector\n",
    "                word_vectors[j] = model.wv[word]\n",
    "        # Calculate the average vector of the document\n",
    "        if len(word_vectors) > 0:\n",
    "            #print(word_vectors.shape)\n",
    "            document_vectors[i] = np.mean(word_vectors, axis=0)\n",
    "    return document_vectors\n",
    "        \n",
    "    "
   ]
  },
  {
   "cell_type": "code",
   "execution_count": 27,
   "id": "dda82a3c",
   "metadata": {},
   "outputs": [],
   "source": [
    "from sklearn.pipeline import Pipeline \n",
    "from sklearn.ensemble import RandomForestClassifier, ExtraTreesClassifier, BaggingClassifier, AdaBoostClassifier, GradientBoostingClassifier\n",
    "from sklearn.linear_model import LogisticRegression\n",
    "from sklearn.tree import DecisionTreeClassifier\n",
    "from sklearn.svm import SVC\n",
    "from sklearn.neighbors import KNeighborsClassifier\n",
    "from sklearn.preprocessing import MinMaxScaler\n",
    "from sklearn.model_selection import KFold\n",
    "from sklearn.model_selection import train_test_split, GridSearchCV\n"
   ]
  },
  {
   "cell_type": "code",
   "execution_count": 28,
   "id": "607d3b62",
   "metadata": {},
   "outputs": [],
   "source": [
    "def create_pipeline_evaluate_model(index_fold, X_train, X_test, y_train, y_test,idx_train,idx_test):\n",
    "    \n",
    "        model = Pipeline([\n",
    "                         (\"classifier\",SVC())\n",
    "                         ])\n",
    "\n",
    "        model.fit(X_train,y_train)\n",
    "        y_pred = model.predict(X_test)\n",
    "        score = model.score(X_test,y_test)     \n",
    "        print(f\"Run {index_fold} : score = {round(score,2)} \")\n",
    "        return (score)"
   ]
  },
  {
   "cell_type": "code",
   "execution_count": 29,
   "id": "a9f74af0",
   "metadata": {},
   "outputs": [
    {
     "name": "stdout",
     "output_type": "stream",
     "text": [
      "Run 0 : score = 0.74 \n",
      "Run 1 : score = 0.75 \n",
      "Run 2 : score = 0.93 \n",
      "Run 3 : score = 0.8 \n",
      "Run 4 : score = 0.71 \n",
      "La score moyen est de :  78.76190476190476 %\n"
     ]
    }
   ],
   "source": [
    "nb_model = 5\n",
    "index_fold = 0\n",
    "kf = KFold(n_splits=nb_model, shuffle=False)\n",
    "average_score = 0\n",
    "model = Word2Vec(Lemmatise_corpus, min_count=1,hs=1,negative=0,sg=1,epochs=5)  \n",
    "\n",
    "X = wvector(Lemmatise_corpus,model)\n",
    "y = df_texte.label_cat1\n",
    "\n",
    "kf = KFold(n_splits=nb_model)\n",
    "\n",
    "for train_index, test_index in kf.split(X):\n",
    "    \n",
    "    X_train, X_test = X[train_index], X[test_index]\n",
    "    y_train, y_test = y[train_index], y[test_index]\n",
    "    score = create_pipeline_evaluate_model(index_fold, X_train, X_test, y_train, y_test,train_index,test_index)    \n",
    "    average_score += score\n",
    "    index_fold += 1\n",
    "    \n",
    "average_score = average_score / nb_model\n",
    "print('La score moyen est de : ',average_score*100,'%')"
   ]
  },
  {
   "cell_type": "code",
   "execution_count": 30,
   "id": "80d587d9",
   "metadata": {},
   "outputs": [
    {
     "name": "stdout",
     "output_type": "stream",
     "text": [
      "Run 5 : score = 0.92 \n"
     ]
    }
   ],
   "source": [
    "model = Word2Vec(Lemmatise_corpus, min_count=1,hs=1,negative=0,sg=1,epochs=5)  \n",
    "\n",
    "X = wvector(Lemmatise_corpus,model)\n",
    "y = df_texte.label_cat1\n",
    "\n",
    "X_train, X_test, y_train, y_test = train_test_split(X, y, test_size=0.2, random_state=42)\n",
    "\n",
    "model = Pipeline([\n",
    "                 (\"classifier\",SVC())\n",
    "                 ])\n",
    "\n",
    "model.fit(X_train,y_train)\n",
    "y_pred = model.predict(X_test)\n",
    "\n",
    "score = model.score(X_test,y_test)     \n",
    "print(f\"Run {index_fold} : score = {round(score,2)} \")\n",
    "\n"
   ]
  },
  {
   "cell_type": "code",
   "execution_count": 31,
   "id": "107f6e88",
   "metadata": {},
   "outputs": [
    {
     "name": "stdout",
     "output_type": "stream",
     "text": [
      "Fitting 10 folds for each of 9 candidates, totalling 90 fits\n"
     ]
    },
    {
     "data": {
      "text/html": [
       "<div>\n",
       "<style scoped>\n",
       "    .dataframe tbody tr th:only-of-type {\n",
       "        vertical-align: middle;\n",
       "    }\n",
       "\n",
       "    .dataframe tbody tr th {\n",
       "        vertical-align: top;\n",
       "    }\n",
       "\n",
       "    .dataframe thead th {\n",
       "        text-align: right;\n",
       "    }\n",
       "</style>\n",
       "<table border=\"1\" class=\"dataframe\">\n",
       "  <thead>\n",
       "    <tr style=\"text-align: right;\">\n",
       "      <th></th>\n",
       "      <th>mean_fit_time</th>\n",
       "      <th>std_fit_time</th>\n",
       "      <th>mean_score_time</th>\n",
       "      <th>std_score_time</th>\n",
       "      <th>param_estimator</th>\n",
       "      <th>params</th>\n",
       "      <th>mean_test_score</th>\n",
       "      <th>std_test_score</th>\n",
       "      <th>rank_test_score</th>\n",
       "      <th>mean_train_score</th>\n",
       "      <th>std_train_score</th>\n",
       "    </tr>\n",
       "  </thead>\n",
       "  <tbody>\n",
       "    <tr>\n",
       "      <th>3</th>\n",
       "      <td>0.616073</td>\n",
       "      <td>0.044052</td>\n",
       "      <td>0.018407</td>\n",
       "      <td>0.004801</td>\n",
       "      <td>ExtraTreesClassifier()</td>\n",
       "      <td>{'estimator': ExtraTreesClassifier()}</td>\n",
       "      <td>0.835238</td>\n",
       "      <td>0.110497</td>\n",
       "      <td>1</td>\n",
       "      <td>1.000000</td>\n",
       "      <td>0.000000</td>\n",
       "    </tr>\n",
       "    <tr>\n",
       "      <th>5</th>\n",
       "      <td>0.069311</td>\n",
       "      <td>0.009804</td>\n",
       "      <td>0.020854</td>\n",
       "      <td>0.003679</td>\n",
       "      <td>SVC()</td>\n",
       "      <td>{'estimator': SVC()}</td>\n",
       "      <td>0.827619</td>\n",
       "      <td>0.116132</td>\n",
       "      <td>2</td>\n",
       "      <td>0.874497</td>\n",
       "      <td>0.003146</td>\n",
       "    </tr>\n",
       "    <tr>\n",
       "      <th>8</th>\n",
       "      <td>0.107937</td>\n",
       "      <td>0.028727</td>\n",
       "      <td>0.001300</td>\n",
       "      <td>0.000458</td>\n",
       "      <td>LogisticRegression()</td>\n",
       "      <td>{'estimator': LogisticRegression()}</td>\n",
       "      <td>0.823810</td>\n",
       "      <td>0.112143</td>\n",
       "      <td>3</td>\n",
       "      <td>0.863175</td>\n",
       "      <td>0.008740</td>\n",
       "    </tr>\n",
       "    <tr>\n",
       "      <th>0</th>\n",
       "      <td>3.775418</td>\n",
       "      <td>0.346042</td>\n",
       "      <td>0.018356</td>\n",
       "      <td>0.004811</td>\n",
       "      <td>RandomForestClassifier()</td>\n",
       "      <td>{'estimator': RandomForestClassifier()}</td>\n",
       "      <td>0.821905</td>\n",
       "      <td>0.121819</td>\n",
       "      <td>4</td>\n",
       "      <td>1.000000</td>\n",
       "      <td>0.000000</td>\n",
       "    </tr>\n",
       "    <tr>\n",
       "      <th>2</th>\n",
       "      <td>103.486430</td>\n",
       "      <td>1.401308</td>\n",
       "      <td>0.003102</td>\n",
       "      <td>0.000835</td>\n",
       "      <td>GradientBoostingClassifier()</td>\n",
       "      <td>{'estimator': GradientBoostingClassifier()}</td>\n",
       "      <td>0.820000</td>\n",
       "      <td>0.124936</td>\n",
       "      <td>5</td>\n",
       "      <td>1.000000</td>\n",
       "      <td>0.000000</td>\n",
       "    </tr>\n",
       "    <tr>\n",
       "      <th>7</th>\n",
       "      <td>0.004802</td>\n",
       "      <td>0.003311</td>\n",
       "      <td>0.051213</td>\n",
       "      <td>0.082561</td>\n",
       "      <td>KNeighborsClassifier(n_neighbors=13)</td>\n",
       "      <td>{'estimator': KNeighborsClassifier(n_neighbors...</td>\n",
       "      <td>0.794286</td>\n",
       "      <td>0.123897</td>\n",
       "      <td>6</td>\n",
       "      <td>0.871534</td>\n",
       "      <td>0.004968</td>\n",
       "    </tr>\n",
       "    <tr>\n",
       "      <th>6</th>\n",
       "      <td>3.408946</td>\n",
       "      <td>0.102165</td>\n",
       "      <td>0.005503</td>\n",
       "      <td>0.001284</td>\n",
       "      <td>BaggingClassifier()</td>\n",
       "      <td>{'estimator': BaggingClassifier()}</td>\n",
       "      <td>0.789524</td>\n",
       "      <td>0.110612</td>\n",
       "      <td>7</td>\n",
       "      <td>0.995026</td>\n",
       "      <td>0.002369</td>\n",
       "    </tr>\n",
       "    <tr>\n",
       "      <th>4</th>\n",
       "      <td>0.404929</td>\n",
       "      <td>0.047198</td>\n",
       "      <td>0.001201</td>\n",
       "      <td>0.000400</td>\n",
       "      <td>DecisionTreeClassifier()</td>\n",
       "      <td>{'estimator': DecisionTreeClassifier()}</td>\n",
       "      <td>0.751429</td>\n",
       "      <td>0.112240</td>\n",
       "      <td>8</td>\n",
       "      <td>1.000000</td>\n",
       "      <td>0.000000</td>\n",
       "    </tr>\n",
       "    <tr>\n",
       "      <th>1</th>\n",
       "      <td>3.523747</td>\n",
       "      <td>0.404947</td>\n",
       "      <td>0.021253</td>\n",
       "      <td>0.002733</td>\n",
       "      <td>AdaBoostClassifier()</td>\n",
       "      <td>{'estimator': AdaBoostClassifier()}</td>\n",
       "      <td>0.480952</td>\n",
       "      <td>0.139728</td>\n",
       "      <td>9</td>\n",
       "      <td>0.505291</td>\n",
       "      <td>0.079071</td>\n",
       "    </tr>\n",
       "  </tbody>\n",
       "</table>\n",
       "</div>"
      ],
      "text/plain": [
       "   mean_fit_time  std_fit_time  mean_score_time  std_score_time  \\\n",
       "3       0.616073      0.044052         0.018407        0.004801   \n",
       "5       0.069311      0.009804         0.020854        0.003679   \n",
       "8       0.107937      0.028727         0.001300        0.000458   \n",
       "0       3.775418      0.346042         0.018356        0.004811   \n",
       "2     103.486430      1.401308         0.003102        0.000835   \n",
       "7       0.004802      0.003311         0.051213        0.082561   \n",
       "6       3.408946      0.102165         0.005503        0.001284   \n",
       "4       0.404929      0.047198         0.001201        0.000400   \n",
       "1       3.523747      0.404947         0.021253        0.002733   \n",
       "\n",
       "                        param_estimator  \\\n",
       "3                ExtraTreesClassifier()   \n",
       "5                                 SVC()   \n",
       "8                  LogisticRegression()   \n",
       "0              RandomForestClassifier()   \n",
       "2          GradientBoostingClassifier()   \n",
       "7  KNeighborsClassifier(n_neighbors=13)   \n",
       "6                   BaggingClassifier()   \n",
       "4              DecisionTreeClassifier()   \n",
       "1                  AdaBoostClassifier()   \n",
       "\n",
       "                                              params  mean_test_score  \\\n",
       "3              {'estimator': ExtraTreesClassifier()}         0.835238   \n",
       "5                               {'estimator': SVC()}         0.827619   \n",
       "8                {'estimator': LogisticRegression()}         0.823810   \n",
       "0            {'estimator': RandomForestClassifier()}         0.821905   \n",
       "2        {'estimator': GradientBoostingClassifier()}         0.820000   \n",
       "7  {'estimator': KNeighborsClassifier(n_neighbors...         0.794286   \n",
       "6                 {'estimator': BaggingClassifier()}         0.789524   \n",
       "4            {'estimator': DecisionTreeClassifier()}         0.751429   \n",
       "1                {'estimator': AdaBoostClassifier()}         0.480952   \n",
       "\n",
       "   std_test_score  rank_test_score  mean_train_score  std_train_score  \n",
       "3        0.110497                1          1.000000         0.000000  \n",
       "5        0.116132                2          0.874497         0.003146  \n",
       "8        0.112143                3          0.863175         0.008740  \n",
       "0        0.121819                4          1.000000         0.000000  \n",
       "2        0.124936                5          1.000000         0.000000  \n",
       "7        0.123897                6          0.871534         0.004968  \n",
       "6        0.110612                7          0.995026         0.002369  \n",
       "4        0.112240                8          1.000000         0.000000  \n",
       "1        0.139728                9          0.505291         0.079071  "
      ]
     },
     "execution_count": 31,
     "metadata": {},
     "output_type": "execute_result"
    }
   ],
   "source": [
    "pipe = Pipeline([\n",
    "                (\"estimator\",LogisticRegression())\n",
    "                ])\n",
    "pipe\n",
    "\n",
    "\n",
    "# Vectorise les mots avec la méthode continu bag of words\n",
    "# min_count spécifie la fréquence minimale d'un mot pour être inclus dans le modèle\n",
    "# epochs signifie que le réseau de neuronne va s'entrainer un nombre de fois sur les données \n",
    "model = Word2Vec(Lemmatise_corpus, min_count=1,hs=1,negative=0,sg=0,epochs=5)  \n",
    "\n",
    "# retoune les vecteurs de mots par document\n",
    "vectors = wvector(Lemmatise_corpus,model)\n",
    "X = vectors\n",
    "y = df_texte.label_cat1\n",
    "\n",
    "\n",
    "param_grid = {\n",
    "              'estimator':[RandomForestClassifier(),\n",
    "                           AdaBoostClassifier(),\n",
    "                           GradientBoostingClassifier(),\n",
    "                           ExtraTreesClassifier(),\n",
    "                           DecisionTreeClassifier(),\n",
    "                           SVC(),\n",
    "                           BaggingClassifier(),\n",
    "                           KNeighborsClassifier(13),\n",
    "                           LogisticRegression()\n",
    "                          ]}\n",
    "\n",
    "\n",
    "grid = GridSearchCV(pipe,param_grid=param_grid, cv=10,return_train_score=True ,n_jobs=-1, verbose=1)\n",
    "\n",
    "grid.fit(X,y)\n",
    "\n",
    "grid_cv = pd.DataFrame(grid.cv_results_)\n",
    "\n",
    "new_cols = [i for i in grid_cv.columns if 'split' not in i.lower()]\n",
    "\n",
    "grid_cv.loc[:,new_cols].sort_values('mean_test_score', ascending=False)\n",
    "\n"
   ]
  },
  {
   "cell_type": "code",
   "execution_count": 34,
   "id": "3cb15932",
   "metadata": {},
   "outputs": [
    {
     "name": "stdout",
     "output_type": "stream",
     "text": [
      "Fitting 10 folds for each of 9 candidates, totalling 90 fits\n"
     ]
    },
    {
     "data": {
      "text/html": [
       "<div>\n",
       "<style scoped>\n",
       "    .dataframe tbody tr th:only-of-type {\n",
       "        vertical-align: middle;\n",
       "    }\n",
       "\n",
       "    .dataframe tbody tr th {\n",
       "        vertical-align: top;\n",
       "    }\n",
       "\n",
       "    .dataframe thead th {\n",
       "        text-align: right;\n",
       "    }\n",
       "</style>\n",
       "<table border=\"1\" class=\"dataframe\">\n",
       "  <thead>\n",
       "    <tr style=\"text-align: right;\">\n",
       "      <th></th>\n",
       "      <th>mean_fit_time</th>\n",
       "      <th>std_fit_time</th>\n",
       "      <th>mean_score_time</th>\n",
       "      <th>std_score_time</th>\n",
       "      <th>param_estimator</th>\n",
       "      <th>params</th>\n",
       "      <th>mean_test_score</th>\n",
       "      <th>std_test_score</th>\n",
       "      <th>rank_test_score</th>\n",
       "      <th>mean_train_score</th>\n",
       "      <th>std_train_score</th>\n",
       "    </tr>\n",
       "  </thead>\n",
       "  <tbody>\n",
       "    <tr>\n",
       "      <th>5</th>\n",
       "      <td>0.070515</td>\n",
       "      <td>0.023046</td>\n",
       "      <td>0.026710</td>\n",
       "      <td>0.012168</td>\n",
       "      <td>SVC()</td>\n",
       "      <td>{'estimator': SVC()}</td>\n",
       "      <td>0.881905</td>\n",
       "      <td>0.080835</td>\n",
       "      <td>1</td>\n",
       "      <td>0.931746</td>\n",
       "      <td>0.003734</td>\n",
       "    </tr>\n",
       "    <tr>\n",
       "      <th>3</th>\n",
       "      <td>0.663408</td>\n",
       "      <td>0.096408</td>\n",
       "      <td>0.019104</td>\n",
       "      <td>0.004173</td>\n",
       "      <td>ExtraTreesClassifier()</td>\n",
       "      <td>{'estimator': ExtraTreesClassifier()}</td>\n",
       "      <td>0.872381</td>\n",
       "      <td>0.092748</td>\n",
       "      <td>2</td>\n",
       "      <td>1.000000</td>\n",
       "      <td>0.000000</td>\n",
       "    </tr>\n",
       "    <tr>\n",
       "      <th>8</th>\n",
       "      <td>0.098176</td>\n",
       "      <td>0.015199</td>\n",
       "      <td>0.001302</td>\n",
       "      <td>0.000459</td>\n",
       "      <td>LogisticRegression()</td>\n",
       "      <td>{'estimator': LogisticRegression()}</td>\n",
       "      <td>0.869524</td>\n",
       "      <td>0.092440</td>\n",
       "      <td>3</td>\n",
       "      <td>0.912804</td>\n",
       "      <td>0.003386</td>\n",
       "    </tr>\n",
       "    <tr>\n",
       "      <th>2</th>\n",
       "      <td>104.666270</td>\n",
       "      <td>1.074915</td>\n",
       "      <td>0.003601</td>\n",
       "      <td>0.000663</td>\n",
       "      <td>GradientBoostingClassifier()</td>\n",
       "      <td>{'estimator': GradientBoostingClassifier()}</td>\n",
       "      <td>0.861905</td>\n",
       "      <td>0.078217</td>\n",
       "      <td>4</td>\n",
       "      <td>1.000000</td>\n",
       "      <td>0.000000</td>\n",
       "    </tr>\n",
       "    <tr>\n",
       "      <th>0</th>\n",
       "      <td>3.431471</td>\n",
       "      <td>0.406913</td>\n",
       "      <td>0.020204</td>\n",
       "      <td>0.007922</td>\n",
       "      <td>RandomForestClassifier()</td>\n",
       "      <td>{'estimator': RandomForestClassifier()}</td>\n",
       "      <td>0.853333</td>\n",
       "      <td>0.097887</td>\n",
       "      <td>5</td>\n",
       "      <td>1.000000</td>\n",
       "      <td>0.000000</td>\n",
       "    </tr>\n",
       "    <tr>\n",
       "      <th>7</th>\n",
       "      <td>0.002300</td>\n",
       "      <td>0.000458</td>\n",
       "      <td>0.005800</td>\n",
       "      <td>0.002786</td>\n",
       "      <td>KNeighborsClassifier(n_neighbors=13)</td>\n",
       "      <td>{'estimator': KNeighborsClassifier(n_neighbors...</td>\n",
       "      <td>0.843810</td>\n",
       "      <td>0.120181</td>\n",
       "      <td>6</td>\n",
       "      <td>0.913651</td>\n",
       "      <td>0.004990</td>\n",
       "    </tr>\n",
       "    <tr>\n",
       "      <th>6</th>\n",
       "      <td>3.481584</td>\n",
       "      <td>0.413707</td>\n",
       "      <td>0.005006</td>\n",
       "      <td>0.000588</td>\n",
       "      <td>BaggingClassifier()</td>\n",
       "      <td>{'estimator': BaggingClassifier()}</td>\n",
       "      <td>0.816190</td>\n",
       "      <td>0.098243</td>\n",
       "      <td>7</td>\n",
       "      <td>0.996402</td>\n",
       "      <td>0.002376</td>\n",
       "    </tr>\n",
       "    <tr>\n",
       "      <th>4</th>\n",
       "      <td>0.445091</td>\n",
       "      <td>0.060532</td>\n",
       "      <td>0.001602</td>\n",
       "      <td>0.000490</td>\n",
       "      <td>DecisionTreeClassifier()</td>\n",
       "      <td>{'estimator': DecisionTreeClassifier()}</td>\n",
       "      <td>0.743810</td>\n",
       "      <td>0.114321</td>\n",
       "      <td>8</td>\n",
       "      <td>1.000000</td>\n",
       "      <td>0.000000</td>\n",
       "    </tr>\n",
       "    <tr>\n",
       "      <th>1</th>\n",
       "      <td>3.381593</td>\n",
       "      <td>0.349984</td>\n",
       "      <td>0.025004</td>\n",
       "      <td>0.007756</td>\n",
       "      <td>AdaBoostClassifier()</td>\n",
       "      <td>{'estimator': AdaBoostClassifier()}</td>\n",
       "      <td>0.513333</td>\n",
       "      <td>0.098003</td>\n",
       "      <td>9</td>\n",
       "      <td>0.516085</td>\n",
       "      <td>0.096605</td>\n",
       "    </tr>\n",
       "  </tbody>\n",
       "</table>\n",
       "</div>"
      ],
      "text/plain": [
       "   mean_fit_time  std_fit_time  mean_score_time  std_score_time  \\\n",
       "5       0.070515      0.023046         0.026710        0.012168   \n",
       "3       0.663408      0.096408         0.019104        0.004173   \n",
       "8       0.098176      0.015199         0.001302        0.000459   \n",
       "2     104.666270      1.074915         0.003601        0.000663   \n",
       "0       3.431471      0.406913         0.020204        0.007922   \n",
       "7       0.002300      0.000458         0.005800        0.002786   \n",
       "6       3.481584      0.413707         0.005006        0.000588   \n",
       "4       0.445091      0.060532         0.001602        0.000490   \n",
       "1       3.381593      0.349984         0.025004        0.007756   \n",
       "\n",
       "                        param_estimator  \\\n",
       "5                                 SVC()   \n",
       "3                ExtraTreesClassifier()   \n",
       "8                  LogisticRegression()   \n",
       "2          GradientBoostingClassifier()   \n",
       "0              RandomForestClassifier()   \n",
       "7  KNeighborsClassifier(n_neighbors=13)   \n",
       "6                   BaggingClassifier()   \n",
       "4              DecisionTreeClassifier()   \n",
       "1                  AdaBoostClassifier()   \n",
       "\n",
       "                                              params  mean_test_score  \\\n",
       "5                               {'estimator': SVC()}         0.881905   \n",
       "3              {'estimator': ExtraTreesClassifier()}         0.872381   \n",
       "8                {'estimator': LogisticRegression()}         0.869524   \n",
       "2        {'estimator': GradientBoostingClassifier()}         0.861905   \n",
       "0            {'estimator': RandomForestClassifier()}         0.853333   \n",
       "7  {'estimator': KNeighborsClassifier(n_neighbors...         0.843810   \n",
       "6                 {'estimator': BaggingClassifier()}         0.816190   \n",
       "4            {'estimator': DecisionTreeClassifier()}         0.743810   \n",
       "1                {'estimator': AdaBoostClassifier()}         0.513333   \n",
       "\n",
       "   std_test_score  rank_test_score  mean_train_score  std_train_score  \n",
       "5        0.080835                1          0.931746         0.003734  \n",
       "3        0.092748                2          1.000000         0.000000  \n",
       "8        0.092440                3          0.912804         0.003386  \n",
       "2        0.078217                4          1.000000         0.000000  \n",
       "0        0.097887                5          1.000000         0.000000  \n",
       "7        0.120181                6          0.913651         0.004990  \n",
       "6        0.098243                7          0.996402         0.002376  \n",
       "4        0.114321                8          1.000000         0.000000  \n",
       "1        0.098003                9          0.516085         0.096605  "
      ]
     },
     "execution_count": 34,
     "metadata": {},
     "output_type": "execute_result"
    }
   ],
   "source": [
    "\n",
    "\n",
    "pipe = Pipeline([\n",
    "                (\"estimator\",LogisticRegression())\n",
    "                ])\n",
    "\n",
    "\n",
    "# sg = 1 signifie que le modèle va vectorise les mots avec la méthode skip-gramms\n",
    "# min_count spécifie la fréquence minimale d'un mot pour être inclus dans le modèle\n",
    "# epochs signifie que le réseau de neuronne va s'entrainer un nombre de fois sur les données \n",
    "model = Word2Vec(Lemmatise_corpus, min_count=1,hs=1,negative=0,sg=1,epochs=5)  \n",
    "vectors = wvector(Lemmatise_corpus,model)\n",
    "\n",
    "X = vectors\n",
    "y = df_texte.label_cat1\n",
    "\n",
    "param_grid = {\n",
    "              'estimator':[RandomForestClassifier(),\n",
    "                           AdaBoostClassifier(),\n",
    "                           GradientBoostingClassifier(),\n",
    "                           ExtraTreesClassifier(),\n",
    "                           DecisionTreeClassifier(),\n",
    "                           SVC(),\n",
    "                           BaggingClassifier(),\n",
    "                           KNeighborsClassifier(13),\n",
    "                           LogisticRegression()\n",
    "                          ]}\n",
    "\n",
    "\n",
    "grid = GridSearchCV(pipe,param_grid=param_grid, cv=10,return_train_score=True ,n_jobs=-1, verbose=1)\n",
    "\n",
    "grid.fit(X,y)\n",
    "\n",
    "grid_cv = pd.DataFrame(grid.cv_results_)\n",
    "\n",
    "new_cols = [i for i in grid_cv.columns if 'split' not in i.lower()]\n",
    "\n",
    "grid_cv.loc[:,new_cols].sort_values('mean_test_score', ascending=False)\n",
    "\n"
   ]
  },
  {
   "cell_type": "code",
   "execution_count": 35,
   "id": "9c9c4252",
   "metadata": {},
   "outputs": [
    {
     "data": {
      "text/html": [
       "<style>#sk-container-id-1 {color: black;}#sk-container-id-1 pre{padding: 0;}#sk-container-id-1 div.sk-toggleable {background-color: white;}#sk-container-id-1 label.sk-toggleable__label {cursor: pointer;display: block;width: 100%;margin-bottom: 0;padding: 0.3em;box-sizing: border-box;text-align: center;}#sk-container-id-1 label.sk-toggleable__label-arrow:before {content: \"▸\";float: left;margin-right: 0.25em;color: #696969;}#sk-container-id-1 label.sk-toggleable__label-arrow:hover:before {color: black;}#sk-container-id-1 div.sk-estimator:hover label.sk-toggleable__label-arrow:before {color: black;}#sk-container-id-1 div.sk-toggleable__content {max-height: 0;max-width: 0;overflow: hidden;text-align: left;background-color: #f0f8ff;}#sk-container-id-1 div.sk-toggleable__content pre {margin: 0.2em;color: black;border-radius: 0.25em;background-color: #f0f8ff;}#sk-container-id-1 input.sk-toggleable__control:checked~div.sk-toggleable__content {max-height: 200px;max-width: 100%;overflow: auto;}#sk-container-id-1 input.sk-toggleable__control:checked~label.sk-toggleable__label-arrow:before {content: \"▾\";}#sk-container-id-1 div.sk-estimator input.sk-toggleable__control:checked~label.sk-toggleable__label {background-color: #d4ebff;}#sk-container-id-1 div.sk-label input.sk-toggleable__control:checked~label.sk-toggleable__label {background-color: #d4ebff;}#sk-container-id-1 input.sk-hidden--visually {border: 0;clip: rect(1px 1px 1px 1px);clip: rect(1px, 1px, 1px, 1px);height: 1px;margin: -1px;overflow: hidden;padding: 0;position: absolute;width: 1px;}#sk-container-id-1 div.sk-estimator {font-family: monospace;background-color: #f0f8ff;border: 1px dotted black;border-radius: 0.25em;box-sizing: border-box;margin-bottom: 0.5em;}#sk-container-id-1 div.sk-estimator:hover {background-color: #d4ebff;}#sk-container-id-1 div.sk-parallel-item::after {content: \"\";width: 100%;border-bottom: 1px solid gray;flex-grow: 1;}#sk-container-id-1 div.sk-label:hover label.sk-toggleable__label {background-color: #d4ebff;}#sk-container-id-1 div.sk-serial::before {content: \"\";position: absolute;border-left: 1px solid gray;box-sizing: border-box;top: 0;bottom: 0;left: 50%;z-index: 0;}#sk-container-id-1 div.sk-serial {display: flex;flex-direction: column;align-items: center;background-color: white;padding-right: 0.2em;padding-left: 0.2em;position: relative;}#sk-container-id-1 div.sk-item {position: relative;z-index: 1;}#sk-container-id-1 div.sk-parallel {display: flex;align-items: stretch;justify-content: center;background-color: white;position: relative;}#sk-container-id-1 div.sk-item::before, #sk-container-id-1 div.sk-parallel-item::before {content: \"\";position: absolute;border-left: 1px solid gray;box-sizing: border-box;top: 0;bottom: 0;left: 50%;z-index: -1;}#sk-container-id-1 div.sk-parallel-item {display: flex;flex-direction: column;z-index: 1;position: relative;background-color: white;}#sk-container-id-1 div.sk-parallel-item:first-child::after {align-self: flex-end;width: 50%;}#sk-container-id-1 div.sk-parallel-item:last-child::after {align-self: flex-start;width: 50%;}#sk-container-id-1 div.sk-parallel-item:only-child::after {width: 0;}#sk-container-id-1 div.sk-dashed-wrapped {border: 1px dashed gray;margin: 0 0.4em 0.5em 0.4em;box-sizing: border-box;padding-bottom: 0.4em;background-color: white;}#sk-container-id-1 div.sk-label label {font-family: monospace;font-weight: bold;display: inline-block;line-height: 1.2em;}#sk-container-id-1 div.sk-label-container {text-align: center;}#sk-container-id-1 div.sk-container {/* jupyter's `normalize.less` sets `[hidden] { display: none; }` but bootstrap.min.css set `[hidden] { display: none !important; }` so we also need the `!important` here to be able to override the default hidden behavior on the sphinx rendered scikit-learn.org. See: https://github.com/scikit-learn/scikit-learn/issues/21755 */display: inline-block !important;position: relative;}#sk-container-id-1 div.sk-text-repr-fallback {display: none;}</style><div id=\"sk-container-id-1\" class=\"sk-top-container\"><div class=\"sk-text-repr-fallback\"><pre>LogisticRegression()</pre><b>In a Jupyter environment, please rerun this cell to show the HTML representation or trust the notebook. <br />On GitHub, the HTML representation is unable to render, please try loading this page with nbviewer.org.</b></div><div class=\"sk-container\" hidden><div class=\"sk-item\"><div class=\"sk-estimator sk-toggleable\"><input class=\"sk-toggleable__control sk-hidden--visually\" id=\"sk-estimator-id-1\" type=\"checkbox\" checked><label for=\"sk-estimator-id-1\" class=\"sk-toggleable__label sk-toggleable__label-arrow\">LogisticRegression</label><div class=\"sk-toggleable__content\"><pre>LogisticRegression()</pre></div></div></div></div></div>"
      ],
      "text/plain": [
       "LogisticRegression()"
      ]
     },
     "execution_count": 35,
     "metadata": {},
     "output_type": "execute_result"
    }
   ],
   "source": [
    "\n",
    "from sklearn.metrics import accuracy_score, precision_recall_fscore_support as score\n",
    "logistic = LogisticRegression()\n",
    "\n",
    "model = Word2Vec(Lemmatise_corpus, min_count=1,hs=1,negative=0,sg=1,epochs=5)  \n",
    "vectors = wvector(Lemmatise_corpus,model)\n",
    "\n",
    "X = vectors\n",
    "y = df_texte.label_cat1\n",
    "\n",
    "X_train, X_test, y_train, y_test = train_test_split(X, y, test_size = 0.2)\n",
    "logistic.fit(X_train, y_train)\n",
    "\n"
   ]
  },
  {
   "cell_type": "markdown",
   "id": "2168d10b",
   "metadata": {},
   "source": [
    "### prédictions des documents "
   ]
  },
  {
   "cell_type": "code",
   "execution_count": 36,
   "id": "5e09df90",
   "metadata": {},
   "outputs": [
    {
     "data": {
      "text/plain": [
       "array([3, 2, 5, 4, 3, 4, 5, 3, 3, 3, 0, 5, 3, 5, 2, 4, 2, 3, 0, 5, 3, 4,\n",
       "       5, 3, 3, 2, 3, 3, 3, 4, 0, 5, 0, 1, 1, 1, 3, 3, 1, 3, 4, 5, 2, 5,\n",
       "       3, 0, 5, 2, 5, 3, 1, 2, 4, 0, 0, 3, 3, 3, 3, 1, 5, 3, 2, 3, 4, 3,\n",
       "       3, 3, 3, 1, 5, 3, 2, 3, 3, 5, 2, 5, 2, 2, 3, 4, 1, 3, 3, 4, 2, 5,\n",
       "       3, 2, 0, 1, 3, 5, 1, 4, 2, 1, 3, 1, 1, 1, 5, 4, 5, 3, 3, 1, 4, 3,\n",
       "       3, 3, 2, 3, 3, 4, 3, 2, 2, 2, 3, 3, 3, 0, 3, 3, 2, 1, 1, 5, 2, 1,\n",
       "       2, 3, 2, 0, 0, 3, 3, 2, 5, 4, 3, 0, 3, 3, 5, 3, 3, 3, 3, 5, 1, 3,\n",
       "       1, 3, 5, 5, 3, 2, 2, 3, 3, 1, 3, 5, 5, 5, 3, 3, 2, 4, 2, 4, 1, 0,\n",
       "       3, 0, 3, 5, 3, 3, 5, 2, 3, 3, 3, 4, 3, 5, 3, 3, 0, 0, 1, 3, 0, 3,\n",
       "       1, 3, 2, 5, 4, 3, 2, 3, 4, 3, 3, 5])"
      ]
     },
     "execution_count": 36,
     "metadata": {},
     "output_type": "execute_result"
    }
   ],
   "source": [
    "y_pred = logistic.predict(X_test)\n",
    "y_pred"
   ]
  },
  {
   "cell_type": "code",
   "execution_count": 37,
   "id": "7f261fc4",
   "metadata": {},
   "outputs": [
    {
     "data": {
      "text/plain": [
       "array([3, 2, 5, 4, 3, 4, 5, 3, 3, 3, 0, 5, 0, 5, 2, 4, 2, 3, 1, 5, 3, 4,\n",
       "       5, 2, 1, 1, 1, 3, 0, 4, 0, 5, 4, 1, 1, 1, 3, 3, 1, 3, 4, 5, 2, 5,\n",
       "       3, 0, 5, 2, 5, 3, 1, 2, 4, 0, 0, 3, 3, 3, 3, 1, 5, 0, 2, 3, 4, 3,\n",
       "       3, 3, 3, 1, 5, 3, 2, 3, 1, 5, 1, 5, 2, 2, 4, 4, 1, 3, 3, 4, 2, 5,\n",
       "       3, 2, 0, 1, 3, 5, 3, 4, 2, 1, 3, 1, 1, 1, 5, 4, 5, 3, 3, 1, 4, 3,\n",
       "       3, 3, 2, 3, 3, 4, 3, 2, 2, 2, 3, 3, 3, 0, 3, 3, 2, 1, 1, 5, 2, 4,\n",
       "       2, 3, 3, 0, 0, 3, 3, 2, 5, 4, 3, 0, 3, 3, 5, 4, 3, 1, 3, 5, 0, 3,\n",
       "       1, 3, 5, 5, 3, 2, 2, 3, 3, 1, 3, 5, 5, 5, 3, 3, 2, 4, 2, 4, 1, 0,\n",
       "       0, 0, 0, 5, 3, 3, 5, 2, 0, 3, 3, 4, 0, 5, 3, 3, 0, 0, 1, 3, 0, 0,\n",
       "       0, 3, 2, 5, 4, 3, 2, 0, 4, 0, 0, 5])"
      ]
     },
     "execution_count": 37,
     "metadata": {},
     "output_type": "execute_result"
    }
   ],
   "source": [
    "np.array(y_test)"
   ]
  },
  {
   "cell_type": "code",
   "execution_count": 38,
   "id": "70c70505",
   "metadata": {},
   "outputs": [
    {
     "name": "stdout",
     "output_type": "stream",
     "text": [
      "              precision    recall  f1-score   support\n",
      "\n",
      "           0       0.88      0.54      0.67        28\n",
      "           1       0.83      0.74      0.78        27\n",
      "           2       0.90      0.97      0.93        29\n",
      "           3       0.79      0.97      0.87        69\n",
      "           4       1.00      0.83      0.91        24\n",
      "           5       1.00      1.00      1.00        33\n",
      "\n",
      "    accuracy                           0.87       210\n",
      "   macro avg       0.90      0.84      0.86       210\n",
      "weighted avg       0.88      0.87      0.87       210\n",
      "\n"
     ]
    }
   ],
   "source": [
    "print(classification_report(y_test,y_pred))"
   ]
  },
  {
   "cell_type": "markdown",
   "id": "8d6798b7",
   "metadata": {},
   "source": [
    "### 2.2 Classification des documents avec BERT\n"
   ]
  },
  {
   "cell_type": "code",
   "execution_count": 39,
   "id": "a00d3ea6",
   "metadata": {},
   "outputs": [
    {
     "name": "stdout",
     "output_type": "stream",
     "text": [
      "Max sentence length:  2620\n"
     ]
    }
   ],
   "source": [
    "tokens = []\n",
    "_ = [tokens.append(str(txt).replace(\"'\", '').replace(\",\",\"\").replace(\"[\",'').replace(\"]\",'')) for txt in Lemmatise_corpus]\n",
    "print('Max sentence length: ', max([len(sen) for sen in tokens]))\n"
   ]
  },
  {
   "cell_type": "code",
   "execution_count": 40,
   "id": "d17d3aaa",
   "metadata": {},
   "outputs": [
    {
     "data": {
      "text/plain": [
       "device(type='cuda')"
      ]
     },
     "execution_count": 40,
     "metadata": {},
     "output_type": "execute_result"
    }
   ],
   "source": [
    "torch.device(\"cuda\")"
   ]
  },
  {
   "cell_type": "code",
   "execution_count": 41,
   "id": "f6a6fbd1",
   "metadata": {},
   "outputs": [
    {
     "name": "stderr",
     "output_type": "stream",
     "text": [
      "Some weights of the model checkpoint at bert-base-uncased were not used when initializing BertForSequenceClassification: ['cls.predictions.transform.dense.weight', 'cls.predictions.transform.LayerNorm.weight', 'cls.seq_relationship.bias', 'cls.predictions.transform.LayerNorm.bias', 'cls.seq_relationship.weight', 'cls.predictions.transform.dense.bias', 'cls.predictions.bias']\n",
      "- This IS expected if you are initializing BertForSequenceClassification from the checkpoint of a model trained on another task or with another architecture (e.g. initializing a BertForSequenceClassification model from a BertForPreTraining model).\n",
      "- This IS NOT expected if you are initializing BertForSequenceClassification from the checkpoint of a model that you expect to be exactly identical (initializing a BertForSequenceClassification model from a BertForSequenceClassification model).\n",
      "Some weights of BertForSequenceClassification were not initialized from the model checkpoint at bert-base-uncased and are newly initialized: ['classifier.weight', 'classifier.bias']\n",
      "You should probably TRAIN this model on a down-stream task to be able to use it for predictions and inference.\n"
     ]
    },
    {
     "data": {
      "text/plain": [
       "tensor([3, 0, 0,  ..., 0, 0, 0])"
      ]
     },
     "execution_count": 41,
     "metadata": {},
     "output_type": "execute_result"
    }
   ],
   "source": [
    "# Prétraitement des textes et des étiquettes\n",
    "# utiliser la CPU \n",
    "device = torch.device(\"cuda\" if torch.cuda.is_available() else \"cpu\")\n",
    "\n",
    "model_name = 'bert-base-uncased'\n",
    "\n",
    "model = BertForSequenceClassification.from_pretrained(model_name, num_labels = 13)\n",
    "\n",
    "model.to(device)\n",
    "tokenizer = BertTokenizer.from_pretrained(model_name)\n",
    "\n",
    "inputs = tokenizer(tokens,\n",
    "                   padding=True,\n",
    "                   truncation=True,\n",
    "                   max_length= 100,\n",
    "                   return_tensors=\"pt\")\n",
    "\n",
    "labels = torch.tensor(df_texte.label_cat1 , dtype=torch.long)\n",
    "\n",
    "inputs.to(device)\n",
    "\n",
    "labels.to(device)\n",
    "# Entraîner le modèle\n",
    "\n"
   ]
  },
  {
   "cell_type": "code",
   "execution_count": 42,
   "id": "b96c927f",
   "metadata": {},
   "outputs": [
    {
     "data": {
      "text/plain": [
       "device(type='cuda')"
      ]
     },
     "execution_count": 42,
     "metadata": {},
     "output_type": "execute_result"
    }
   ],
   "source": [
    "device = torch.device(\"cuda\")\n",
    "device"
   ]
  },
  {
   "cell_type": "code",
   "execution_count": 43,
   "id": "67b849fd",
   "metadata": {},
   "outputs": [],
   "source": [
    "\n",
    "train_inputs, validation_inputs, train_labels, validation_labels = train_test_split(inputs['input_ids'], labels, \n",
    "                                                            random_state=2018, test_size=0.2)\n",
    "# Performing same steps on the attention masks\n",
    "train_masks, validation_masks, _, _ = train_test_split(inputs['attention_mask'], labels,\n",
    "                                             random_state=2018, test_size=0.2)"
   ]
  },
  {
   "cell_type": "code",
   "execution_count": 44,
   "id": "ba481eb7",
   "metadata": {},
   "outputs": [
    {
     "data": {
      "text/plain": [
       "(840, 840, 840, 210, 210, 210)"
      ]
     },
     "execution_count": 44,
     "metadata": {},
     "output_type": "execute_result"
    }
   ],
   "source": [
    "len(train_inputs), len(train_masks), len(train_labels), len(validation_inputs), len(validation_masks[:840]), len(validation_labels)"
   ]
  },
  {
   "cell_type": "code",
   "execution_count": 45,
   "id": "7ae3fdca",
   "metadata": {},
   "outputs": [],
   "source": [
    "from torch.utils.data import TensorDataset, DataLoader, RandomSampler, SequentialSampler\n",
    "\n",
    "#Creating the DataLoader which will help us to load data into the GPU/CPU\n",
    "batch_size = 20\n",
    "\n",
    "# Create the DataLoader for our training set.\n",
    "train_data = TensorDataset(train_inputs, train_masks, train_labels)\n",
    "train_sampler = RandomSampler(train_data)\n",
    "train_dataloader = DataLoader(train_data, sampler=train_sampler, batch_size=batch_size)\n",
    "\n",
    "# Create the DataLoader for our validation set.\n",
    "validation_data = TensorDataset(validation_inputs, validation_masks, validation_labels)\n",
    "validation_sampler = SequentialSampler(validation_data)\n",
    "validation_dataloader = DataLoader(validation_data, sampler=validation_sampler, batch_size=batch_size)"
   ]
  },
  {
   "cell_type": "code",
   "execution_count": 46,
   "id": "248cc447",
   "metadata": {},
   "outputs": [
    {
     "name": "stderr",
     "output_type": "stream",
     "text": [
      "C:\\Users\\Dragomir\\anaconda3\\lib\\site-packages\\transformers\\optimization.py:411: FutureWarning: This implementation of AdamW is deprecated and will be removed in a future version. Use the PyTorch implementation torch.optim.AdamW instead, or set `no_deprecation_warning=True` to disable this warning\n",
      "  warnings.warn(\n"
     ]
    }
   ],
   "source": [
    "# AdamW is an optimizer which is a Adam Optimzier with weight-decay-fix\n",
    "optimizer = AdamW(model.parameters(),\n",
    "                  lr = 2e-5, \n",
    "                  eps = 1e-8 \n",
    "                )"
   ]
  },
  {
   "cell_type": "code",
   "execution_count": 47,
   "id": "e241805f",
   "metadata": {},
   "outputs": [
    {
     "name": "stdout",
     "output_type": "stream",
     "text": [
      "42\n"
     ]
    },
    {
     "data": {
      "text/plain": [
       "<torch.optim.lr_scheduler.LambdaLR at 0x18e1bca45b0>"
      ]
     },
     "execution_count": 47,
     "metadata": {},
     "output_type": "execute_result"
    }
   ],
   "source": [
    "from transformers import get_linear_schedule_with_warmup\n",
    "\n",
    "# Number of training epochs (authors recommend between 2 and 4)\n",
    "epochs = 2\n",
    "\n",
    "# Total number of training steps is number of batches * number of epochs.\n",
    "total_steps = len(train_dataloader) * epochs\n",
    "print(len(train_dataloader))\n",
    "# Create the learning rate scheduler.\n",
    "scheduler = get_linear_schedule_with_warmup(optimizer, \n",
    "                                            num_warmup_steps = 0, # Default value in run_glue.py\n",
    "                                            num_training_steps = total_steps)\n",
    "scheduler"
   ]
  },
  {
   "cell_type": "code",
   "execution_count": 48,
   "id": "7cb2e87e",
   "metadata": {},
   "outputs": [],
   "source": [
    "import numpy as np\n",
    "\n",
    "# Function to calculate the accuracy of our predictions vs labels\n",
    "def flat_accuracy(preds, labels):\n",
    "    pred_flat = np.argmax(preds, axis=1).flatten()\n",
    "    labels_flat = labels.flatten()\n",
    "    return sum(pred_flat == labels_flat) / len(labels_flat)\n",
    "\n"
   ]
  },
  {
   "cell_type": "code",
   "execution_count": 49,
   "id": "a6f50b16",
   "metadata": {},
   "outputs": [],
   "source": [
    "#Creating the helper function to have a watch on elapsed time\n",
    "\n",
    "import time\n",
    "import datetime\n",
    "\n",
    "def format_time(elapsed):\n",
    "    '''\n",
    "    Takes a time in seconds and returns a string hh:mm:ss\n",
    "    '''\n",
    "    # Round to the nearest second.\n",
    "    elapsed_rounded = int(round((elapsed)))\n",
    "    \n",
    "    # Format as hh:mm:ss\n",
    "    return str(datetime.timedelta(seconds=elapsed_rounded))"
   ]
  },
  {
   "cell_type": "code",
   "execution_count": 50,
   "id": "916e15a0",
   "metadata": {},
   "outputs": [],
   "source": [
    "# Store the average loss after each epoch so we can plot them.\n",
    "loss_values = []\n",
    "accuracy = []\n",
    "epochs = 5\n",
    "def train_bert(epochs,train_dataloader,validation_dataloader):\n",
    "    for epoch in range(0,epochs):\n",
    "        print(\"\")\n",
    "        print('======== Epoch {:} / {:} ========'.format(epoch + 1, epochs))\n",
    "        print('Training...')\n",
    "\n",
    "        t0 = time.time()\n",
    "        model.train()\n",
    "        total_loss = 0\n",
    "\n",
    "        for step, batch in enumerate(train_dataloader):\n",
    "            b_input_ids = batch[0]\n",
    "            b_input_mask = batch[1]\n",
    "            b_labels = batch[2]\n",
    "\n",
    "            # Always clear any previously calculated gradients before performing a\n",
    "            # backward pass. PyTorch doesn't do this automatically because \n",
    "            # accumulating the gradients is \"convenient while training RNNs\". \n",
    "            # (source: https://stackoverflow.com/questions/48001598/why-do-we-need-to-call-zero-grad-in-pytorch)\n",
    "            model.zero_grad()  \n",
    "            # Progress update every 40 batches.\n",
    "            if step % 10 == 0 and not step == 0:\n",
    "                # Calculate elapsed time in minutes.\n",
    "                elapsed = format_time(time.time() - t0)\n",
    "                print('  Batch {:>5,}  of  {:>5,}.    Elapsed: {:}.'.format(step, len(train_dataloader), elapsed))\n",
    "\n",
    "            optimizer.zero_grad()\n",
    "\n",
    "            outputs = model(input_ids = b_input_ids ,attention_mask = b_input_mask, labels=b_labels)\n",
    "\n",
    "            # The call to `model` always returns a tuple, so we need to pull the \n",
    "            # loss value out of the tuple.\n",
    "            loss = outputs[0]\n",
    "\n",
    "            # Accumulate the training loss over all of the batches so that we can\n",
    "            # calculate the average loss at the end. `loss` is a Tensor containing a\n",
    "            # single value; the `.item()` function just returns the Python value \n",
    "            # from the tensor.\n",
    "            total_loss += loss.item()\n",
    "\n",
    "            # Perform a backward pass to calculate the gradients.\n",
    "            loss.backward()\n",
    "\n",
    "            torch.nn.utils.clip_grad_norm_(model.parameters(), 1.0)\n",
    "\n",
    "            # Update parameters and take a step using the computed gradient.\n",
    "            # The optimizer dictates the \"update rule\"--how the parameters are\n",
    "            # modified based on their gradients, the learning rate, etc.\n",
    "            optimizer.step()\n",
    "\n",
    "            # Update the learning rate.\n",
    "            scheduler.step()\n",
    "\n",
    "            # Calculate the average loss over the training data.\n",
    "            avg_train_loss = total_loss / len(train_dataloader)            \n",
    "\n",
    "            # Store the loss value for plotting the learning curve.\n",
    "            \n",
    "            if step == 40:\n",
    "                print(\"\")\n",
    "                loss_values.append(avg_train_loss)\n",
    "                print(\"  Average training loss: {0:.2f}\".format(avg_train_loss))\n",
    "                print(\"  Training epoch took: {:}\".format(format_time(time.time() - t0)))\n",
    "\n",
    "                print(\"\")\n",
    "                print(\"Running Validation...\")\n",
    "\n",
    "        t0 = time.time()\n",
    "\n",
    "        # Put the model in evaluation mode--the dropout layers behave differently\n",
    "        # during evaluation.\n",
    "        model.eval()\n",
    "\n",
    "        # Tracking variables \n",
    "        eval_loss, eval_accuracy = 0, 0\n",
    "        nb_eval_steps, nb_eval_examples = 0, 0\n",
    "\n",
    "        for batch in validation_dataloader:\n",
    "\n",
    "\n",
    "            batch = tuple(t for t in batch)\n",
    "\n",
    "            # Unpack the inputs from our dataloader\n",
    "            b_input_ids, b_input_mask, b_labels = batch\n",
    "\n",
    "            # Telling the model not to compute or store gradients, saving memory and\n",
    "            # speeding up validation\n",
    "            with torch.no_grad():        \n",
    "\n",
    "                # Forward pass, calculate logit predictions.\n",
    "                # This will return the logits rather than the loss because we have\n",
    "                # not provided labels.\n",
    "                # token_type_ids is the same as the \"segment ids\", which \n",
    "                # differentiates sentence 1 and 2 in 2-sentence tasks.\n",
    "                # The documentation for this `model` function is here: \n",
    "                # https://huggingface.co/transformers/v2.2.0/model_doc/bert.html#transformers.BertForSequenceClassification\n",
    "                outputs = model(b_input_ids,\n",
    "                                token_type_ids=None, \n",
    "                                attention_mask=b_input_mask)\n",
    "            # Put the model in evaluation mode--the dropout layers behave differently\n",
    "            # during evaluation.\n",
    "            logits = outputs[0]\n",
    "\n",
    "            # Calculate the accuracy for this batch of test sentences.\n",
    "            tmp_eval_accuracy = flat_accuracy(logits, b_labels)\n",
    "\n",
    "            # Accumulate the total accuracy.\n",
    "            eval_accuracy += tmp_eval_accuracy\n",
    "\n",
    "            # Track the number of batches\n",
    "            nb_eval_steps += 1\n",
    "            \n",
    "\n",
    "        result_eval = eval_accuracy/nb_eval_steps\n",
    "            \n",
    "        accuracy.append(result_eval)\n",
    "        # Report the final accuracy for this validation run.\n",
    "        print(\"  Accuracy: {0:.2f}\".format(eval_accuracy/nb_eval_steps))\n",
    "        print(\"  Validation took: {:}\".format(format_time(time.time() - t0)))\n",
    "    return loss_values, accuracy\n",
    "    "
   ]
  },
  {
   "cell_type": "code",
   "execution_count": 51,
   "id": "f33b4863",
   "metadata": {},
   "outputs": [
    {
     "name": "stdout",
     "output_type": "stream",
     "text": [
      "\n",
      "======== Epoch 1 / 5 ========\n",
      "Training...\n",
      "  Batch    10  of     42.    Elapsed: 0:01:16.\n",
      "  Batch    20  of     42.    Elapsed: 0:02:32.\n",
      "  Batch    30  of     42.    Elapsed: 0:03:51.\n",
      "  Batch    40  of     42.    Elapsed: 0:05:07.\n",
      "\n",
      "  Average training loss: 1.91\n",
      "  Training epoch took: 0:05:14\n",
      "\n",
      "Running Validation...\n",
      "  Accuracy: 0.65\n",
      "  Validation took: 0:00:27\n",
      "\n",
      "======== Epoch 2 / 5 ========\n",
      "Training...\n",
      "  Batch    10  of     42.    Elapsed: 0:01:19.\n",
      "  Batch    20  of     42.    Elapsed: 0:02:41.\n",
      "  Batch    30  of     42.    Elapsed: 0:04:01.\n",
      "  Batch    40  of     42.    Elapsed: 0:05:23.\n",
      "\n",
      "  Average training loss: 1.34\n",
      "  Training epoch took: 0:05:31\n",
      "\n",
      "Running Validation...\n",
      "  Accuracy: 0.73\n",
      "  Validation took: 0:00:28\n",
      "\n",
      "======== Epoch 3 / 5 ========\n",
      "Training...\n",
      "  Batch    10  of     42.    Elapsed: 0:01:18.\n",
      "  Batch    20  of     42.    Elapsed: 0:02:37.\n",
      "  Batch    30  of     42.    Elapsed: 0:03:56.\n",
      "  Batch    40  of     42.    Elapsed: 0:05:15.\n",
      "\n",
      "  Average training loss: 1.23\n",
      "  Training epoch took: 0:05:22\n",
      "\n",
      "Running Validation...\n",
      "  Accuracy: 0.73\n",
      "  Validation took: 0:00:28\n",
      "\n",
      "======== Epoch 4 / 5 ========\n",
      "Training...\n",
      "  Batch    10  of     42.    Elapsed: 0:01:23.\n",
      "  Batch    20  of     42.    Elapsed: 0:02:40.\n",
      "  Batch    30  of     42.    Elapsed: 0:03:59.\n",
      "  Batch    40  of     42.    Elapsed: 0:05:18.\n",
      "\n",
      "  Average training loss: 1.23\n",
      "  Training epoch took: 0:05:25\n",
      "\n",
      "Running Validation...\n",
      "  Accuracy: 0.73\n",
      "  Validation took: 0:00:28\n",
      "\n",
      "======== Epoch 5 / 5 ========\n",
      "Training...\n",
      "  Batch    10  of     42.    Elapsed: 0:01:19.\n",
      "  Batch    20  of     42.    Elapsed: 0:02:38.\n",
      "  Batch    30  of     42.    Elapsed: 0:03:56.\n",
      "  Batch    40  of     42.    Elapsed: 0:05:12.\n",
      "\n",
      "  Average training loss: 1.23\n",
      "  Training epoch took: 0:05:20\n",
      "\n",
      "Running Validation...\n",
      "  Accuracy: 0.73\n",
      "  Validation took: 0:00:28\n"
     ]
    }
   ],
   "source": [
    "loss_, accuracy_ = train_bert(epochs,train_dataloader,validation_dataloader)"
   ]
  },
  {
   "cell_type": "code",
   "execution_count": 52,
   "id": "dffd45a8",
   "metadata": {},
   "outputs": [
    {
     "data": {
      "text/plain": [
       "(5, 5)"
      ]
     },
     "execution_count": 52,
     "metadata": {},
     "output_type": "execute_result"
    }
   ],
   "source": [
    "accuracy_score = np.array(accuracy_)\n",
    "average_training_loss = loss_values\n",
    "len(accuracy_score),len(average_training_loss)\n"
   ]
  },
  {
   "cell_type": "code",
   "execution_count": 59,
   "id": "0aae93f5",
   "metadata": {},
   "outputs": [
    {
     "data": {
      "text/plain": [
       "Text(0.5, 0, 'nombre itérations')"
      ]
     },
     "execution_count": 59,
     "metadata": {},
     "output_type": "execute_result"
    },
    {
     "data": {
      "image/png": "[encoded data removed]",
      "text/plain": [
       "<Figure size 640x480 with 2 Axes>"
      ]
     },
     "metadata": {},
     "output_type": "display_data"
    }
   ],
   "source": [
    "x = np.linspace(0,5,5)\n",
    "fig, ax = plt.subplots(2,1)  # Create a figure and an axes.\n",
    "fig.subplots_adjust(hspace=0.4)\n",
    "ax[0].plot(x, accuracy_, label='validation_accuracy',color ='C1')  # Plot some data on the axes.\n",
    "ax[0].set_xlabel('nombre itérations')  # Add an x-label to the axes.\n",
    "ax[0].set_ylim([0,1])\n",
    "ax[0].set_title(\"Evaluation du modèle BERT\")  # Add a title to the axes.\n",
    "ax[0].set_ylabel('résultats')  # Add a y-label to the axes.\n",
    "ax[0].legend()  # Add a legend.\n",
    "ax[1].plot(x, average_training_loss, label='training loss')  # Plot more data on the axes...\n",
    "ax[1].set_ylabel('résultats')  # Add a y-label to the axes.\n",
    "ax[1].set_ylim([0,2])\n",
    "ax[1].legend()  # Add a legend.\n",
    "ax[1].set_xlabel('nombre itérations')  # Add an x-label to the axes.\n",
    "\n"
   ]
  },
  {
   "cell_type": "code",
   "execution_count": 60,
   "id": "ada9e171",
   "metadata": {},
   "outputs": [
    {
     "name": "stdout",
     "output_type": "stream",
     "text": [
      "classe du texte à prédire\n"
     ]
    }
   ],
   "source": [
    "print('classe du texte à prédire'.format(labels[12]))"
   ]
  },
  {
   "cell_type": "code",
   "execution_count": 61,
   "id": "e05352f2",
   "metadata": {},
   "outputs": [],
   "source": [
    "def eval_bert():\n",
    "    model.eval()\n",
    "    \n",
    "    t0 =  time.time()\n",
    "    y_pred  = []\n",
    "    # Tracking variables \n",
    "    eval_loss, eval_accuracy = 0, 0\n",
    "    nb_eval_steps, nb_eval_examples = 0, 0\n",
    "\n",
    "    for batch in validation_dataloader:\n",
    "        \n",
    "        batch = tuple(t for t in batch)\n",
    "        \n",
    "        # Unpack the inputs from our dataloader\n",
    "        b_input_ids, b_input_mask, b_labels = batch\n",
    "        \n",
    "        # Telling the model not to compute or store gradients, saving memory and\n",
    "        # speeding up validation\n",
    "        with torch.no_grad():        \n",
    "\n",
    "            # Forward pass, calculate logit predictions.\n",
    "            # This will return the logits rather than the loss because we have\n",
    "            # not provided labels.\n",
    "            # token_type_ids is the same as the \"segment ids\", which \n",
    "            # differentiates sentence 1 and 2 in 2-sentence tasks.\n",
    "            # The documentation for this `model` function is here: \n",
    "            # https://huggingface.co/transformers/v2.2.0/model_doc/bert.html#transformers.BertForSequenceClassification\n",
    "            outputs = model(b_input_ids,\n",
    "                            token_type_ids=None, \n",
    "                            attention_mask=b_input_mask,\n",
    "                            output_hidden_states = True)\n",
    "        # Put the model in evaluation mode--the dropout layers behave differently\n",
    "        # during evaluation.\n",
    "        logits = outputs[0]\n",
    "        out = outputs\n",
    "        \n",
    "        #récupère les prédictions\n",
    "        y_pred.append(logits)\n",
    "        \n",
    "        # Calculate the accuracy for this batch of test sentences.\n",
    "        tmp_eval_accuracy = flat_accuracy(logits, b_labels)\n",
    "        \n",
    "        # Accumulate the total accuracy.\n",
    "        eval_accuracy += tmp_eval_accuracy\n",
    "\n",
    "        # Track the number of batches\n",
    "        nb_eval_steps += 1\n",
    "        print('batch step : ',nb_eval_steps)\n",
    "    # Report the final accuracy for this validation run.\n",
    "    print(\"  Accuracy: {0:.2f}\".format(eval_accuracy/nb_eval_steps))\n",
    "    print(\"  Validation took: {:}\".format(format_time(time.time() - t0)))\n",
    "    return y_pred,out"
   ]
  },
  {
   "cell_type": "code",
   "execution_count": 62,
   "id": "5fc89bbe",
   "metadata": {},
   "outputs": [
    {
     "name": "stdout",
     "output_type": "stream",
     "text": [
      "batch step :  1\n",
      "batch step :  2\n",
      "batch step :  3\n",
      "batch step :  4\n",
      "batch step :  5\n",
      "batch step :  6\n",
      "batch step :  7\n",
      "batch step :  8\n",
      "batch step :  9\n",
      "batch step :  10\n",
      "batch step :  11\n",
      "  Accuracy: 0.73\n",
      "  Validation took: 0:00:27\n"
     ]
    }
   ],
   "source": [
    "pred, out  = eval_bert()"
   ]
  },
  {
   "cell_type": "code",
   "execution_count": 63,
   "id": "d19d8a60",
   "metadata": {},
   "outputs": [],
   "source": [
    "pred_labels = []\n",
    "for nb, classe in enumerate(pred):\n",
    "    for i in range(len(pred[nb])):\n",
    "        predicted_class = torch.argmax(pred[nb][i]).item()\n",
    "        pred_labels.append(predicted_class)"
   ]
  },
  {
   "cell_type": "code",
   "execution_count": 64,
   "id": "28d0c476",
   "metadata": {},
   "outputs": [
    {
     "data": {
      "text/plain": [
       "768"
      ]
     },
     "execution_count": 64,
     "metadata": {},
     "output_type": "execute_result"
    }
   ],
   "source": [
    "# les vecteurs de mots\n",
    "\n",
    "len(out.hidden_states[0][0][0])"
   ]
  },
  {
   "cell_type": "code",
   "execution_count": 65,
   "id": "0ecc8843",
   "metadata": {},
   "outputs": [
    {
     "data": {
      "text/plain": [
       "array([3, 1, 3, 5, 3, 3, 0, 3, 2, 1, 3, 3, 1, 3, 2, 3, 3, 2, 3, 3, 5, 0,\n",
       "       3, 3, 1, 3, 3, 3, 3, 5, 3, 3, 3, 2, 3, 3, 1, 2, 3, 3, 3, 3, 3, 3,\n",
       "       3, 3, 0, 5, 1, 0, 3, 3, 3, 3, 2, 3, 1, 0, 3, 3, 3, 3, 2, 3, 1, 0,\n",
       "       2, 3, 5, 2, 3, 3, 3, 3, 1, 0, 3, 4, 3, 5, 5, 3, 0, 3, 0, 1, 3, 3,\n",
       "       2, 2, 3, 2, 3, 3, 2, 2, 1, 2, 2, 1, 5, 3, 3, 3, 0, 3, 1, 2, 5, 3,\n",
       "       1, 3, 2, 3, 5, 1, 5, 2, 3, 1, 2, 3, 0, 3, 1, 3, 1, 3, 2, 0, 2, 0,\n",
       "       5, 3, 3, 1, 5, 4, 3, 0, 3, 3, 2, 2, 0, 5, 0, 3, 3, 3, 0, 0, 2, 3,\n",
       "       3, 0, 3, 3, 5, 3, 5, 5, 3, 1, 3, 3, 2, 4, 3, 3, 3, 3, 3, 1, 5, 3,\n",
       "       3, 3, 5, 3, 3, 3, 3, 0, 1, 2, 5, 3, 3, 2, 0, 3, 3, 3, 2, 3, 3, 5,\n",
       "       2, 2, 3, 2, 1, 0, 3, 0, 0, 3, 3, 3])"
      ]
     },
     "execution_count": 65,
     "metadata": {},
     "output_type": "execute_result"
    }
   ],
   "source": [
    "np.array(pred_labels)"
   ]
  },
  {
   "cell_type": "code",
   "execution_count": 66,
   "id": "bb97ce62",
   "metadata": {},
   "outputs": [
    {
     "data": {
      "text/plain": [
       "tensor([3, 5, 3, 5, 3, 3, 3, 3, 2, 1, 3, 4, 1, 3, 2, 3, 3, 2, 4, 2, 5, 0, 3, 3,\n",
       "        1, 4, 4, 3, 3, 5, 3, 0, 3, 2, 3, 4, 1, 2, 4, 4, 4, 3, 3, 3, 3, 4, 0, 5,\n",
       "        1, 0, 4, 3, 3, 5, 2, 4, 1, 0, 1, 3, 3, 0, 2, 0, 1, 0, 2, 0, 5, 2, 3, 1,\n",
       "        0, 3, 1, 0, 0, 4, 0, 5, 5, 4, 0, 4, 0, 4, 1, 3, 2, 2, 3, 2, 3, 3, 2, 2,\n",
       "        1, 2, 2, 3, 5, 3, 3, 3, 0, 3, 1, 2, 5, 3, 1, 3, 2, 0, 5, 1, 5, 2, 3, 1,\n",
       "        2, 3, 0, 4, 1, 4, 1, 3, 2, 0, 2, 0, 5, 3, 3, 3, 5, 4, 4, 0, 3, 4, 2, 2,\n",
       "        1, 5, 1, 3, 4, 3, 0, 0, 2, 3, 3, 0, 3, 3, 5, 4, 5, 5, 4, 1, 3, 3, 2, 4,\n",
       "        1, 4, 3, 5, 0, 1, 5, 3, 4, 4, 5, 4, 4, 3, 3, 0, 1, 2, 5, 5, 3, 2, 0, 3,\n",
       "        3, 3, 2, 3, 3, 5, 2, 2, 4, 2, 1, 0, 0, 0, 3, 4, 3, 0])"
      ]
     },
     "execution_count": 66,
     "metadata": {},
     "output_type": "execute_result"
    }
   ],
   "source": [
    "validation_labels"
   ]
  },
  {
   "cell_type": "code",
   "execution_count": 67,
   "id": "36dadc13",
   "metadata": {},
   "outputs": [
    {
     "name": "stdout",
     "output_type": "stream",
     "text": [
      "              precision    recall  f1-score   support\n",
      "\n",
      "           0       0.83      0.65      0.73        31\n",
      "           1       0.83      0.76      0.79        25\n",
      "           2       1.00      0.97      0.98        33\n",
      "           3       0.57      0.94      0.71        65\n",
      "           4       1.00      0.10      0.18        31\n",
      "           5       1.00      0.84      0.91        25\n",
      "\n",
      "    accuracy                           0.74       210\n",
      "   macro avg       0.87      0.71      0.72       210\n",
      "weighted avg       0.82      0.74      0.71       210\n",
      "\n"
     ]
    }
   ],
   "source": [
    "print(classification_report(validation_labels,pred_labels))"
   ]
  },
  {
   "cell_type": "markdown",
   "id": "4afc13c4",
   "metadata": {},
   "source": [
    "### 2.3 Classification de texte avec Universal sentence encoder"
   ]
  },
  {
   "cell_type": "code",
   "execution_count": 68,
   "id": "806fa5b0",
   "metadata": {},
   "outputs": [
    {
     "name": "stdout",
     "output_type": "stream",
     "text": [
      "tf.Tensor(\n",
      "[[-0.05380953 -0.05427526  0.03763935 ...  0.04525556  0.0400887\n",
      "  -0.04485746]\n",
      " [-0.0504561  -0.04426588  0.0262354  ...  0.02325921  0.02831347\n",
      "   0.03676867]\n",
      " [-0.05464859 -0.05145617 -0.02325417 ...  0.05250543 -0.03077259\n",
      "  -0.04503982]\n",
      " ...\n",
      " [-0.01919353 -0.04591073 -0.02684828 ... -0.02107586  0.04736629\n",
      "  -0.0543308 ]\n",
      " [-0.0112249  -0.04495183  0.03897667 ...  0.01591754 -0.01513253\n",
      "  -0.00175135]\n",
      " [-0.05246769 -0.04012159  0.03473873 ...  0.02537613 -0.01057997\n",
      "   0.002412  ]], shape=(1050, 512), dtype=float32)\n"
     ]
    }
   ],
   "source": [
    "embed = hub.load(\"https://tfhub.dev/google/universal-sentence-encoder/4\")\n",
    "embeddings = embed(tokens)\n",
    "\n",
    "print(embeddings)"
   ]
  },
  {
   "cell_type": "code",
   "execution_count": 69,
   "id": "0ff039fa",
   "metadata": {},
   "outputs": [
    {
     "data": {
      "text/plain": [
       "<tf.Tensor: shape=(1050, 512), dtype=float32, numpy=\n",
       "array([[-0.05380953, -0.05427526,  0.03763935, ...,  0.04525556,\n",
       "         0.0400887 , -0.04485746],\n",
       "       [-0.0504561 , -0.04426588,  0.0262354 , ...,  0.02325921,\n",
       "         0.02831347,  0.03676867],\n",
       "       [-0.05464859, -0.05145617, -0.02325417, ...,  0.05250543,\n",
       "        -0.03077259, -0.04503982],\n",
       "       ...,\n",
       "       [-0.01919353, -0.04591073, -0.02684828, ..., -0.02107586,\n",
       "         0.04736629, -0.0543308 ],\n",
       "       [-0.0112249 , -0.04495183,  0.03897667, ...,  0.01591754,\n",
       "        -0.01513253, -0.00175135],\n",
       "       [-0.05246769, -0.04012159,  0.03473873, ...,  0.02537613,\n",
       "        -0.01057997,  0.002412  ]], dtype=float32)>"
      ]
     },
     "execution_count": 69,
     "metadata": {},
     "output_type": "execute_result"
    }
   ],
   "source": [
    "embeddings"
   ]
  },
  {
   "cell_type": "code",
   "execution_count": 70,
   "id": "f75ce466",
   "metadata": {},
   "outputs": [
    {
     "data": {
      "text/plain": [
       "array([[-0.05380953, -0.05427526,  0.03763935, ...,  0.04525556,\n",
       "         0.0400887 , -0.04485746],\n",
       "       [-0.0504561 , -0.04426588,  0.0262354 , ...,  0.02325921,\n",
       "         0.02831347,  0.03676867],\n",
       "       [-0.05464859, -0.05145617, -0.02325417, ...,  0.05250543,\n",
       "        -0.03077259, -0.04503982],\n",
       "       ...,\n",
       "       [-0.01919353, -0.04591073, -0.02684828, ..., -0.02107586,\n",
       "         0.04736629, -0.0543308 ],\n",
       "       [-0.0112249 , -0.04495183,  0.03897667, ...,  0.01591754,\n",
       "        -0.01513253, -0.00175135],\n",
       "       [-0.05246769, -0.04012159,  0.03473873, ...,  0.02537613,\n",
       "        -0.01057997,  0.002412  ]], dtype=float32)"
      ]
     },
     "execution_count": 70,
     "metadata": {},
     "output_type": "execute_result"
    }
   ],
   "source": [
    "embeddings.shape\n",
    "embeddings.numpy()"
   ]
  },
  {
   "cell_type": "code",
   "execution_count": 71,
   "id": "ea572771",
   "metadata": {},
   "outputs": [
    {
     "name": "stdout",
     "output_type": "stream",
     "text": [
      "Fitting 10 folds for each of 9 candidates, totalling 90 fits\n"
     ]
    },
    {
     "data": {
      "text/html": [
       "<div>\n",
       "<style scoped>\n",
       "    .dataframe tbody tr th:only-of-type {\n",
       "        vertical-align: middle;\n",
       "    }\n",
       "\n",
       "    .dataframe tbody tr th {\n",
       "        vertical-align: top;\n",
       "    }\n",
       "\n",
       "    .dataframe thead th {\n",
       "        text-align: right;\n",
       "    }\n",
       "</style>\n",
       "<table border=\"1\" class=\"dataframe\">\n",
       "  <thead>\n",
       "    <tr style=\"text-align: right;\">\n",
       "      <th></th>\n",
       "      <th>mean_fit_time</th>\n",
       "      <th>std_fit_time</th>\n",
       "      <th>mean_score_time</th>\n",
       "      <th>std_score_time</th>\n",
       "      <th>param_estimator</th>\n",
       "      <th>params</th>\n",
       "      <th>mean_test_score</th>\n",
       "      <th>std_test_score</th>\n",
       "      <th>rank_test_score</th>\n",
       "      <th>mean_train_score</th>\n",
       "      <th>std_train_score</th>\n",
       "    </tr>\n",
       "  </thead>\n",
       "  <tbody>\n",
       "    <tr>\n",
       "      <th>5</th>\n",
       "      <td>0.261920</td>\n",
       "      <td>0.059415</td>\n",
       "      <td>0.061820</td>\n",
       "      <td>0.007485</td>\n",
       "      <td>SVC()</td>\n",
       "      <td>{'estimator': SVC()}</td>\n",
       "      <td>0.887619</td>\n",
       "      <td>0.083005</td>\n",
       "      <td>1</td>\n",
       "      <td>0.978307</td>\n",
       "      <td>0.003183</td>\n",
       "    </tr>\n",
       "    <tr>\n",
       "      <th>8</th>\n",
       "      <td>0.231677</td>\n",
       "      <td>0.034976</td>\n",
       "      <td>0.001603</td>\n",
       "      <td>0.000490</td>\n",
       "      <td>LogisticRegression()</td>\n",
       "      <td>{'estimator': LogisticRegression()}</td>\n",
       "      <td>0.884762</td>\n",
       "      <td>0.087022</td>\n",
       "      <td>2</td>\n",
       "      <td>0.941481</td>\n",
       "      <td>0.003961</td>\n",
       "    </tr>\n",
       "    <tr>\n",
       "      <th>0</th>\n",
       "      <td>7.829844</td>\n",
       "      <td>0.600732</td>\n",
       "      <td>0.021101</td>\n",
       "      <td>0.006107</td>\n",
       "      <td>RandomForestClassifier()</td>\n",
       "      <td>{'estimator': RandomForestClassifier()}</td>\n",
       "      <td>0.858095</td>\n",
       "      <td>0.101727</td>\n",
       "      <td>3</td>\n",
       "      <td>1.000000</td>\n",
       "      <td>0.000000</td>\n",
       "    </tr>\n",
       "    <tr>\n",
       "      <th>3</th>\n",
       "      <td>1.706491</td>\n",
       "      <td>0.240793</td>\n",
       "      <td>0.022302</td>\n",
       "      <td>0.004694</td>\n",
       "      <td>ExtraTreesClassifier()</td>\n",
       "      <td>{'estimator': ExtraTreesClassifier()}</td>\n",
       "      <td>0.855238</td>\n",
       "      <td>0.108655</td>\n",
       "      <td>4</td>\n",
       "      <td>1.000000</td>\n",
       "      <td>0.000000</td>\n",
       "    </tr>\n",
       "    <tr>\n",
       "      <th>7</th>\n",
       "      <td>0.005651</td>\n",
       "      <td>0.000895</td>\n",
       "      <td>0.060890</td>\n",
       "      <td>0.088034</td>\n",
       "      <td>KNeighborsClassifier(n_neighbors=13)</td>\n",
       "      <td>{'estimator': KNeighborsClassifier(n_neighbors...</td>\n",
       "      <td>0.854286</td>\n",
       "      <td>0.105886</td>\n",
       "      <td>5</td>\n",
       "      <td>0.917566</td>\n",
       "      <td>0.003119</td>\n",
       "    </tr>\n",
       "    <tr>\n",
       "      <th>2</th>\n",
       "      <td>550.097381</td>\n",
       "      <td>3.095352</td>\n",
       "      <td>0.003707</td>\n",
       "      <td>0.001433</td>\n",
       "      <td>GradientBoostingClassifier()</td>\n",
       "      <td>{'estimator': GradientBoostingClassifier()}</td>\n",
       "      <td>0.851429</td>\n",
       "      <td>0.076214</td>\n",
       "      <td>6</td>\n",
       "      <td>1.000000</td>\n",
       "      <td>0.000000</td>\n",
       "    </tr>\n",
       "    <tr>\n",
       "      <th>6</th>\n",
       "      <td>17.291057</td>\n",
       "      <td>0.717402</td>\n",
       "      <td>0.006452</td>\n",
       "      <td>0.001929</td>\n",
       "      <td>BaggingClassifier()</td>\n",
       "      <td>{'estimator': BaggingClassifier()}</td>\n",
       "      <td>0.815238</td>\n",
       "      <td>0.080497</td>\n",
       "      <td>7</td>\n",
       "      <td>0.996825</td>\n",
       "      <td>0.001159</td>\n",
       "    </tr>\n",
       "    <tr>\n",
       "      <th>4</th>\n",
       "      <td>2.359059</td>\n",
       "      <td>0.127936</td>\n",
       "      <td>0.001603</td>\n",
       "      <td>0.000488</td>\n",
       "      <td>DecisionTreeClassifier()</td>\n",
       "      <td>{'estimator': DecisionTreeClassifier()}</td>\n",
       "      <td>0.683810</td>\n",
       "      <td>0.087162</td>\n",
       "      <td>8</td>\n",
       "      <td>1.000000</td>\n",
       "      <td>0.000000</td>\n",
       "    </tr>\n",
       "    <tr>\n",
       "      <th>1</th>\n",
       "      <td>19.555214</td>\n",
       "      <td>1.636985</td>\n",
       "      <td>0.030857</td>\n",
       "      <td>0.010853</td>\n",
       "      <td>AdaBoostClassifier()</td>\n",
       "      <td>{'estimator': AdaBoostClassifier()}</td>\n",
       "      <td>0.437143</td>\n",
       "      <td>0.073210</td>\n",
       "      <td>9</td>\n",
       "      <td>0.512381</td>\n",
       "      <td>0.074868</td>\n",
       "    </tr>\n",
       "  </tbody>\n",
       "</table>\n",
       "</div>"
      ],
      "text/plain": [
       "   mean_fit_time  std_fit_time  mean_score_time  std_score_time  \\\n",
       "5       0.261920      0.059415         0.061820        0.007485   \n",
       "8       0.231677      0.034976         0.001603        0.000490   \n",
       "0       7.829844      0.600732         0.021101        0.006107   \n",
       "3       1.706491      0.240793         0.022302        0.004694   \n",
       "7       0.005651      0.000895         0.060890        0.088034   \n",
       "2     550.097381      3.095352         0.003707        0.001433   \n",
       "6      17.291057      0.717402         0.006452        0.001929   \n",
       "4       2.359059      0.127936         0.001603        0.000488   \n",
       "1      19.555214      1.636985         0.030857        0.010853   \n",
       "\n",
       "                        param_estimator  \\\n",
       "5                                 SVC()   \n",
       "8                  LogisticRegression()   \n",
       "0              RandomForestClassifier()   \n",
       "3                ExtraTreesClassifier()   \n",
       "7  KNeighborsClassifier(n_neighbors=13)   \n",
       "2          GradientBoostingClassifier()   \n",
       "6                   BaggingClassifier()   \n",
       "4              DecisionTreeClassifier()   \n",
       "1                  AdaBoostClassifier()   \n",
       "\n",
       "                                              params  mean_test_score  \\\n",
       "5                               {'estimator': SVC()}         0.887619   \n",
       "8                {'estimator': LogisticRegression()}         0.884762   \n",
       "0            {'estimator': RandomForestClassifier()}         0.858095   \n",
       "3              {'estimator': ExtraTreesClassifier()}         0.855238   \n",
       "7  {'estimator': KNeighborsClassifier(n_neighbors...         0.854286   \n",
       "2        {'estimator': GradientBoostingClassifier()}         0.851429   \n",
       "6                 {'estimator': BaggingClassifier()}         0.815238   \n",
       "4            {'estimator': DecisionTreeClassifier()}         0.683810   \n",
       "1                {'estimator': AdaBoostClassifier()}         0.437143   \n",
       "\n",
       "   std_test_score  rank_test_score  mean_train_score  std_train_score  \n",
       "5        0.083005                1          0.978307         0.003183  \n",
       "8        0.087022                2          0.941481         0.003961  \n",
       "0        0.101727                3          1.000000         0.000000  \n",
       "3        0.108655                4          1.000000         0.000000  \n",
       "7        0.105886                5          0.917566         0.003119  \n",
       "2        0.076214                6          1.000000         0.000000  \n",
       "6        0.080497                7          0.996825         0.001159  \n",
       "4        0.087162                8          1.000000         0.000000  \n",
       "1        0.073210                9          0.512381         0.074868  "
      ]
     },
     "execution_count": 71,
     "metadata": {},
     "output_type": "execute_result"
    }
   ],
   "source": [
    "pipe = Pipeline([\n",
    "                (\"estimator\",LogisticRegression())\n",
    "                ])\n",
    "pipe\n",
    "\n",
    "X = embeddings.numpy()\n",
    "y = df_texte.label_cat1\n",
    "\n",
    "param_grid = {\n",
    "              'estimator':[RandomForestClassifier(),\n",
    "                           AdaBoostClassifier(),\n",
    "                           GradientBoostingClassifier(),\n",
    "                           ExtraTreesClassifier(),\n",
    "                           DecisionTreeClassifier(),\n",
    "                           SVC(),\n",
    "                           BaggingClassifier(),\n",
    "                           KNeighborsClassifier(13),\n",
    "                           LogisticRegression()\n",
    "                          ]}\n",
    "\n",
    "\n",
    "grid = GridSearchCV(pipe,param_grid=param_grid, cv=10,return_train_score=True ,n_jobs=-1, verbose=1)\n",
    "\n",
    "grid.fit(X,y)\n",
    "\n",
    "grid_cv = pd.DataFrame(grid.cv_results_)\n",
    "\n",
    "new_cols = [i for i in grid_cv.columns if 'split' not in i.lower()]\n",
    "\n",
    "grid_cv.loc[:,new_cols].sort_values('mean_test_score', ascending=False)\n",
    "\n"
   ]
  },
  {
   "cell_type": "code",
   "execution_count": 72,
   "id": "b9026559",
   "metadata": {},
   "outputs": [
    {
     "data": {
      "text/html": [
       "<style>#sk-container-id-2 {color: black;}#sk-container-id-2 pre{padding: 0;}#sk-container-id-2 div.sk-toggleable {background-color: white;}#sk-container-id-2 label.sk-toggleable__label {cursor: pointer;display: block;width: 100%;margin-bottom: 0;padding: 0.3em;box-sizing: border-box;text-align: center;}#sk-container-id-2 label.sk-toggleable__label-arrow:before {content: \"▸\";float: left;margin-right: 0.25em;color: #696969;}#sk-container-id-2 label.sk-toggleable__label-arrow:hover:before {color: black;}#sk-container-id-2 div.sk-estimator:hover label.sk-toggleable__label-arrow:before {color: black;}#sk-container-id-2 div.sk-toggleable__content {max-height: 0;max-width: 0;overflow: hidden;text-align: left;background-color: #f0f8ff;}#sk-container-id-2 div.sk-toggleable__content pre {margin: 0.2em;color: black;border-radius: 0.25em;background-color: #f0f8ff;}#sk-container-id-2 input.sk-toggleable__control:checked~div.sk-toggleable__content {max-height: 200px;max-width: 100%;overflow: auto;}#sk-container-id-2 input.sk-toggleable__control:checked~label.sk-toggleable__label-arrow:before {content: \"▾\";}#sk-container-id-2 div.sk-estimator input.sk-toggleable__control:checked~label.sk-toggleable__label {background-color: #d4ebff;}#sk-container-id-2 div.sk-label input.sk-toggleable__control:checked~label.sk-toggleable__label {background-color: #d4ebff;}#sk-container-id-2 input.sk-hidden--visually {border: 0;clip: rect(1px 1px 1px 1px);clip: rect(1px, 1px, 1px, 1px);height: 1px;margin: -1px;overflow: hidden;padding: 0;position: absolute;width: 1px;}#sk-container-id-2 div.sk-estimator {font-family: monospace;background-color: #f0f8ff;border: 1px dotted black;border-radius: 0.25em;box-sizing: border-box;margin-bottom: 0.5em;}#sk-container-id-2 div.sk-estimator:hover {background-color: #d4ebff;}#sk-container-id-2 div.sk-parallel-item::after {content: \"\";width: 100%;border-bottom: 1px solid gray;flex-grow: 1;}#sk-container-id-2 div.sk-label:hover label.sk-toggleable__label {background-color: #d4ebff;}#sk-container-id-2 div.sk-serial::before {content: \"\";position: absolute;border-left: 1px solid gray;box-sizing: border-box;top: 0;bottom: 0;left: 50%;z-index: 0;}#sk-container-id-2 div.sk-serial {display: flex;flex-direction: column;align-items: center;background-color: white;padding-right: 0.2em;padding-left: 0.2em;position: relative;}#sk-container-id-2 div.sk-item {position: relative;z-index: 1;}#sk-container-id-2 div.sk-parallel {display: flex;align-items: stretch;justify-content: center;background-color: white;position: relative;}#sk-container-id-2 div.sk-item::before, #sk-container-id-2 div.sk-parallel-item::before {content: \"\";position: absolute;border-left: 1px solid gray;box-sizing: border-box;top: 0;bottom: 0;left: 50%;z-index: -1;}#sk-container-id-2 div.sk-parallel-item {display: flex;flex-direction: column;z-index: 1;position: relative;background-color: white;}#sk-container-id-2 div.sk-parallel-item:first-child::after {align-self: flex-end;width: 50%;}#sk-container-id-2 div.sk-parallel-item:last-child::after {align-self: flex-start;width: 50%;}#sk-container-id-2 div.sk-parallel-item:only-child::after {width: 0;}#sk-container-id-2 div.sk-dashed-wrapped {border: 1px dashed gray;margin: 0 0.4em 0.5em 0.4em;box-sizing: border-box;padding-bottom: 0.4em;background-color: white;}#sk-container-id-2 div.sk-label label {font-family: monospace;font-weight: bold;display: inline-block;line-height: 1.2em;}#sk-container-id-2 div.sk-label-container {text-align: center;}#sk-container-id-2 div.sk-container {/* jupyter's `normalize.less` sets `[hidden] { display: none; }` but bootstrap.min.css set `[hidden] { display: none !important; }` so we also need the `!important` here to be able to override the default hidden behavior on the sphinx rendered scikit-learn.org. See: https://github.com/scikit-learn/scikit-learn/issues/21755 */display: inline-block !important;position: relative;}#sk-container-id-2 div.sk-text-repr-fallback {display: none;}</style><div id=\"sk-container-id-2\" class=\"sk-top-container\"><div class=\"sk-text-repr-fallback\"><pre>ExtraTreesClassifier(random_state=0)</pre><b>In a Jupyter environment, please rerun this cell to show the HTML representation or trust the notebook. <br />On GitHub, the HTML representation is unable to render, please try loading this page with nbviewer.org.</b></div><div class=\"sk-container\" hidden><div class=\"sk-item\"><div class=\"sk-estimator sk-toggleable\"><input class=\"sk-toggleable__control sk-hidden--visually\" id=\"sk-estimator-id-2\" type=\"checkbox\" checked><label for=\"sk-estimator-id-2\" class=\"sk-toggleable__label sk-toggleable__label-arrow\">ExtraTreesClassifier</label><div class=\"sk-toggleable__content\"><pre>ExtraTreesClassifier(random_state=0)</pre></div></div></div></div></div>"
      ],
      "text/plain": [
       "ExtraTreesClassifier(random_state=0)"
      ]
     },
     "execution_count": 72,
     "metadata": {},
     "output_type": "execute_result"
    }
   ],
   "source": [
    "from sklearn.ensemble import ExtraTreesClassifier\n",
    "\n",
    "\n",
    "\n",
    "X = embeddings.numpy()\n",
    "y = df_texte.label_cat1\n",
    "\n",
    "X_train, X_test, y_train, y_test = train_test_split(X, y, test_size = 0.2)\n",
    "clf = ExtraTreesClassifier(n_estimators=100, random_state=0)\n",
    "clf.fit(X_train, y_train)"
   ]
  },
  {
   "cell_type": "code",
   "execution_count": 74,
   "id": "59c105ea",
   "metadata": {},
   "outputs": [],
   "source": [
    "y_pred = clf.predict(X_test)"
   ]
  },
  {
   "cell_type": "code",
   "execution_count": 75,
   "id": "9711907f",
   "metadata": {},
   "outputs": [
    {
     "name": "stdout",
     "output_type": "stream",
     "text": [
      "              precision    recall  f1-score   support\n",
      "\n",
      "           0       0.86      0.76      0.81        25\n",
      "           1       0.91      0.88      0.89        24\n",
      "           2       1.00      1.00      1.00        32\n",
      "           3       0.86      0.97      0.91        67\n",
      "           4       0.93      0.78      0.85        32\n",
      "           5       1.00      1.00      1.00        30\n",
      "\n",
      "    accuracy                           0.91       210\n",
      "   macro avg       0.93      0.90      0.91       210\n",
      "weighted avg       0.92      0.91      0.91       210\n",
      "\n"
     ]
    }
   ],
   "source": [
    "print(classification_report(y_test,y_pred))"
   ]
  }
 ],
 "metadata": {
  "kernelspec": {
   "display_name": "Python 3 (ipykernel)",
   "language": "python",
   "name": "python3"
  },
  "language_info": {
   "codemirror_mode": {
    "name": "ipython",
    "version": 3
   },
   "file_extension": ".py",
   "mimetype": "text/x-python",
   "name": "python",
   "nbconvert_exporter": "python",
   "pygments_lexer": "ipython3",
   "version": "3.9.13"
  }
 },
 "nbformat": 4,
 "nbformat_minor": 5
}
