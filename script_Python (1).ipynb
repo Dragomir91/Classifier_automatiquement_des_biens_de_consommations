{
 "cells": [
  {
   "cell_type": "code",
   "execution_count": 1,
   "id": "eabf1ac5",
   "metadata": {},
   "outputs": [],
   "source": [
    "import pandas as pd\n",
    "import numpy as np\n",
    "import matplotlib.pyplot as plt\n",
    "import seaborn as sns\n",
    "%matplotlib inline\n",
    "import os\n",
    "from os import listdir\n",
    "from sklearn.model_selection import train_test_split\n",
    "from sklearn.metrics import accuracy_score, auc, roc_auc_score, roc_curve, confusion_matrix, classification_report\n",
    "from glob import glob\n",
    "import requests"
   ]
  },
  {
   "cell_type": "markdown",
   "id": "51adc393",
   "metadata": {},
   "source": [
    "### Collecte des données suivants :\n",
    "\n",
    "    - foodId\n",
    "    - label\n",
    "    - category\n",
    "    - foodContentsLabel\n",
    "    - image\n",
    "\n",
    "### Utilisation des fonctions:\n",
    "\n",
    "    - 1. Initialisation de la classe -> recupere_donnee()\n",
    "    - 2. Récupère les données de la requête avec la méthode -> donnee.request_data(requests,url)\n",
    "    - 3. Stockage des variables\n",
    "    - 4. Création d'un dataframe (produit_champagne)\n",
    "    - 5. Sauvegarde des données dans un fichiers csv\n",
    "    - 6. Stockage d'une image\n"
   ]
  },
  {
   "cell_type": "code",
   "execution_count": 2,
   "id": "d54a5257",
   "metadata": {},
   "outputs": [
    {
     "name": "stdout",
     "output_type": "stream",
     "text": [
      "sauvegarde réussie\n",
      "création de image dans le dossier réussi\n"
     ]
    }
   ],
   "source": [
    "\n",
    "class api_data:\n",
    "\n",
    "\n",
    "        \n",
    "    def request_data(self, requests,url):\n",
    "\n",
    "        url = \"https://edamam-food-and-grocery-database.p.rapidapi.com/api/food-database/v2/parser\"\n",
    "\n",
    "        querystring = {\"ingr\":\"champagne\"}\n",
    "\n",
    "        headers = {\n",
    "            \"X-RapidAPI-Key\": \"ab3c319f68msh7fdec3ad0d9d5bcp1cd567jsn0b042abf883c\",\n",
    "            \"X-RapidAPI-Host\": \"edamam-food-and-grocery-database.p.rapidapi.com\"\n",
    "        }\n",
    "\n",
    "        response = requests.get(url, headers=headers, params=querystring)\n",
    "\n",
    "\n",
    "        return response.json()\n",
    "\n",
    "\n",
    "    def filtre_data(self,df):\n",
    "\n",
    "        food_id = []\n",
    "        label = []\n",
    "        category = []\n",
    "        foodContentsLabel = []\n",
    "        image = []\n",
    "\n",
    "        data = pd.DataFrame(df['hints'])[:10]\n",
    "        data\n",
    "\n",
    "        for i in range(10):\n",
    "\n",
    "            try : food_id.append(data['food'][i]['foodId'])\n",
    "            except : food_id.append('vide')\n",
    "            try : label.append(data['food'][i]['label'])\n",
    "            except : label.append('vide')\n",
    "            try : category.append(data['food'][i]['category'])\n",
    "            except : category.append('vide')\n",
    "            try : foodContentsLabel.append(data['food'][i]['category'])\n",
    "            except : foodContentsLabel.append('vide')\n",
    "            try : image.append(data['food'][i]['image'])\n",
    "            except : image.append('vide')\n",
    "\n",
    "        return food_id,label,category,foodContentsLabel,image\n",
    "    \n",
    "    def create_dataframe(self,food_id,label,category,foodContentsLabel,image):\n",
    "            \n",
    "            df2 = {\"foodId\": food_id,\n",
    "                \"label\": label,\n",
    "                \"category\" : category,\n",
    "                \"foodContentsLabel\" : foodContentsLabel,\n",
    "                \"image\" : image\n",
    "                }\n",
    "            \n",
    "            pd.DataFrame(df2).to_csv('produit_champagne.csv')\n",
    "           \n",
    "            return  pd.DataFrame(df2)\n",
    "        \n",
    "    def save(self,df):\n",
    "        \n",
    "        try:\n",
    "            df.to_csv('produit_champagne.csv')\n",
    "            print('sauvegarde réussie')\n",
    "            \n",
    "        except: print('echec de la sauvegarde')\n",
    "            \n",
    "    def uplaod_image(self,url_img): \n",
    "        \n",
    "        try : \n",
    "            image_content = requests.get(url_img).content\n",
    "\n",
    "            # Enregistrez le contenu de l'image dans un fichier local\n",
    "            with open('image.jpg', 'wb') as f:\n",
    "                f.write(image_content)\n",
    "            print('création de image dans le dossier réussi')\n",
    "        except: print('erreur -> pas de url')\n",
    "\n",
    "if __name__ == '__main__':\n",
    "    \n",
    "    url = \"https://edamam-food-and-grocery-database.p.rapidapi.com/api/food-database/v2/parser\"\n",
    "    \n",
    "    # 1. Initialisation de la classe\n",
    "    api = api_data()\n",
    "\n",
    "    # 2. Récupère les données de la requête\n",
    "    response = api.request_data(requests,url)\n",
    "\n",
    "    #3. Stockage des variables\n",
    "    food_id,label,category,foodContentsLabel,image = api.filtre_data(response)\n",
    "\n",
    "    #4. création du fichier csv (produit_champagne)\n",
    "    df = api.create_dataframe(food_id,label,category,foodContentsLabel,image)\n",
    "    \n",
    "    # sauvegarde des données \n",
    "    api.save(df)\n",
    "    \n",
    "    #6. chargement d'une image\n",
    "    url2 = df.image[0]\n",
    "    api.uplaod_image(url2)"
   ]
  },
  {
   "cell_type": "code",
   "execution_count": 3,
   "id": "baea104a",
   "metadata": {},
   "outputs": [
    {
     "data": {
      "text/plain": [
       "<__main__.api_data at 0x1fb845007c0>"
      ]
     },
     "execution_count": 3,
     "metadata": {},
     "output_type": "execute_result"
    }
   ],
   "source": [
    "# 1. Initialisation de la classe\n",
    "api = api_data()\n",
    "api"
   ]
  },
  {
   "cell_type": "code",
   "execution_count": 4,
   "id": "5c597038",
   "metadata": {},
   "outputs": [],
   "source": [
    "# 2. Récupère les données de la requête\n",
    "response = api.request_data(requests,url)"
   ]
  },
  {
   "cell_type": "code",
   "execution_count": 5,
   "id": "17ff32bb",
   "metadata": {},
   "outputs": [],
   "source": [
    "#3. Stockage des variables\n",
    "\n",
    "food_id,label,category,foodContentsLabel,image = api.filtre_data(response)"
   ]
  },
  {
   "cell_type": "code",
   "execution_count": 6,
   "id": "0c903307",
   "metadata": {},
   "outputs": [
    {
     "data": {
      "text/html": [
       "<div>\n",
       "<style scoped>\n",
       "    .dataframe tbody tr th:only-of-type {\n",
       "        vertical-align: middle;\n",
       "    }\n",
       "\n",
       "    .dataframe tbody tr th {\n",
       "        vertical-align: top;\n",
       "    }\n",
       "\n",
       "    .dataframe thead th {\n",
       "        text-align: right;\n",
       "    }\n",
       "</style>\n",
       "<table border=\"1\" class=\"dataframe\">\n",
       "  <thead>\n",
       "    <tr style=\"text-align: right;\">\n",
       "      <th></th>\n",
       "      <th>foodId</th>\n",
       "      <th>label</th>\n",
       "      <th>category</th>\n",
       "      <th>foodContentsLabel</th>\n",
       "      <th>image</th>\n",
       "    </tr>\n",
       "  </thead>\n",
       "  <tbody>\n",
       "    <tr>\n",
       "      <th>0</th>\n",
       "      <td>food_a656mk2a5dmqb2adiamu6beihduu</td>\n",
       "      <td>Champagne</td>\n",
       "      <td>Generic foods</td>\n",
       "      <td>Generic foods</td>\n",
       "      <td>https://www.edamam.com/food-img/a71/a718cf3c52...</td>\n",
       "    </tr>\n",
       "    <tr>\n",
       "      <th>1</th>\n",
       "      <td>food_b753ithamdb8psbt0w2k9aquo06c</td>\n",
       "      <td>Champagne Vinaigrette, Champagne</td>\n",
       "      <td>Packaged foods</td>\n",
       "      <td>Packaged foods</td>\n",
       "      <td>vide</td>\n",
       "    </tr>\n",
       "    <tr>\n",
       "      <th>2</th>\n",
       "      <td>food_b3dyababjo54xobm6r8jzbghjgqe</td>\n",
       "      <td>Champagne Vinaigrette, Champagne</td>\n",
       "      <td>Packaged foods</td>\n",
       "      <td>Packaged foods</td>\n",
       "      <td>https://www.edamam.com/food-img/d88/d88b64d973...</td>\n",
       "    </tr>\n",
       "    <tr>\n",
       "      <th>3</th>\n",
       "      <td>food_a9e0ghsamvoc45bwa2ybsa3gken9</td>\n",
       "      <td>Champagne Vinaigrette, Champagne</td>\n",
       "      <td>Packaged foods</td>\n",
       "      <td>Packaged foods</td>\n",
       "      <td>vide</td>\n",
       "    </tr>\n",
       "    <tr>\n",
       "      <th>4</th>\n",
       "      <td>food_an4jjueaucpus2a3u1ni8auhe7q9</td>\n",
       "      <td>Champagne Vinaigrette, Champagne</td>\n",
       "      <td>Packaged foods</td>\n",
       "      <td>Packaged foods</td>\n",
       "      <td>vide</td>\n",
       "    </tr>\n",
       "    <tr>\n",
       "      <th>5</th>\n",
       "      <td>food_bmu5dmkazwuvpaa5prh1daa8jxs0</td>\n",
       "      <td>Champagne Dressing, Champagne</td>\n",
       "      <td>Packaged foods</td>\n",
       "      <td>Packaged foods</td>\n",
       "      <td>https://www.edamam.com/food-img/ab2/ab2459fc2a...</td>\n",
       "    </tr>\n",
       "    <tr>\n",
       "      <th>6</th>\n",
       "      <td>food_alpl44taoyv11ra0lic1qa8xculi</td>\n",
       "      <td>Champagne Buttercream</td>\n",
       "      <td>Generic meals</td>\n",
       "      <td>Generic meals</td>\n",
       "      <td>vide</td>\n",
       "    </tr>\n",
       "    <tr>\n",
       "      <th>7</th>\n",
       "      <td>food_byap67hab6evc3a0f9w1oag3s0qf</td>\n",
       "      <td>Champagne Sorbet</td>\n",
       "      <td>Generic meals</td>\n",
       "      <td>Generic meals</td>\n",
       "      <td>vide</td>\n",
       "    </tr>\n",
       "    <tr>\n",
       "      <th>8</th>\n",
       "      <td>food_am5egz6aq3fpjlaf8xpkdbc2asis</td>\n",
       "      <td>Champagne Truffles</td>\n",
       "      <td>Generic meals</td>\n",
       "      <td>Generic meals</td>\n",
       "      <td>vide</td>\n",
       "    </tr>\n",
       "    <tr>\n",
       "      <th>9</th>\n",
       "      <td>food_bcz8rhiajk1fuva0vkfmeakbouc0</td>\n",
       "      <td>Champagne Vinaigrette</td>\n",
       "      <td>Generic meals</td>\n",
       "      <td>Generic meals</td>\n",
       "      <td>vide</td>\n",
       "    </tr>\n",
       "  </tbody>\n",
       "</table>\n",
       "</div>"
      ],
      "text/plain": [
       "                              foodId                             label  \\\n",
       "0  food_a656mk2a5dmqb2adiamu6beihduu                         Champagne   \n",
       "1  food_b753ithamdb8psbt0w2k9aquo06c  Champagne Vinaigrette, Champagne   \n",
       "2  food_b3dyababjo54xobm6r8jzbghjgqe  Champagne Vinaigrette, Champagne   \n",
       "3  food_a9e0ghsamvoc45bwa2ybsa3gken9  Champagne Vinaigrette, Champagne   \n",
       "4  food_an4jjueaucpus2a3u1ni8auhe7q9  Champagne Vinaigrette, Champagne   \n",
       "5  food_bmu5dmkazwuvpaa5prh1daa8jxs0     Champagne Dressing, Champagne   \n",
       "6  food_alpl44taoyv11ra0lic1qa8xculi             Champagne Buttercream   \n",
       "7  food_byap67hab6evc3a0f9w1oag3s0qf                  Champagne Sorbet   \n",
       "8  food_am5egz6aq3fpjlaf8xpkdbc2asis                Champagne Truffles   \n",
       "9  food_bcz8rhiajk1fuva0vkfmeakbouc0             Champagne Vinaigrette   \n",
       "\n",
       "         category foodContentsLabel  \\\n",
       "0   Generic foods     Generic foods   \n",
       "1  Packaged foods    Packaged foods   \n",
       "2  Packaged foods    Packaged foods   \n",
       "3  Packaged foods    Packaged foods   \n",
       "4  Packaged foods    Packaged foods   \n",
       "5  Packaged foods    Packaged foods   \n",
       "6   Generic meals     Generic meals   \n",
       "7   Generic meals     Generic meals   \n",
       "8   Generic meals     Generic meals   \n",
       "9   Generic meals     Generic meals   \n",
       "\n",
       "                                               image  \n",
       "0  https://www.edamam.com/food-img/a71/a718cf3c52...  \n",
       "1                                               vide  \n",
       "2  https://www.edamam.com/food-img/d88/d88b64d973...  \n",
       "3                                               vide  \n",
       "4                                               vide  \n",
       "5  https://www.edamam.com/food-img/ab2/ab2459fc2a...  \n",
       "6                                               vide  \n",
       "7                                               vide  \n",
       "8                                               vide  \n",
       "9                                               vide  "
      ]
     },
     "execution_count": 6,
     "metadata": {},
     "output_type": "execute_result"
    }
   ],
   "source": [
    "#4. création du fichier csv (produit_champagne)\n",
    "\n",
    "df = api.create_dataframe(food_id,label,category,foodContentsLabel,image)\n",
    "df"
   ]
  },
  {
   "cell_type": "code",
   "execution_count": 7,
   "id": "3a016714",
   "metadata": {},
   "outputs": [
    {
     "name": "stdout",
     "output_type": "stream",
     "text": [
      "sauvegarde réussie\n"
     ]
    }
   ],
   "source": [
    "# sauvegarde des données\n",
    "\n",
    "api.save(df)"
   ]
  },
  {
   "cell_type": "code",
   "execution_count": 8,
   "id": "36e77623",
   "metadata": {},
   "outputs": [
    {
     "data": {
      "text/plain": [
       "'https://www.edamam.com/food-img/d88/d88b64d97349ed062368972113124e35.jpg'"
      ]
     },
     "execution_count": 8,
     "metadata": {},
     "output_type": "execute_result"
    }
   ],
   "source": [
    "#6. chargement d'une image\n",
    "\n",
    "url2 = df.image[2]\n",
    "url2"
   ]
  },
  {
   "cell_type": "code",
   "execution_count": 9,
   "id": "38c96557",
   "metadata": {},
   "outputs": [
    {
     "name": "stdout",
     "output_type": "stream",
     "text": [
      "création de image dans le dossier réussi\n"
     ]
    }
   ],
   "source": [
    "api.uplaod_image(url2)"
   ]
  }
 ],
 "metadata": {
  "kernelspec": {
   "display_name": "Python 3 (ipykernel)",
   "language": "python",
   "name": "python3"
  },
  "language_info": {
   "codemirror_mode": {
    "name": "ipython",
    "version": 3
   },
   "file_extension": ".py",
   "mimetype": "text/x-python",
   "name": "python",
   "nbconvert_exporter": "python",
   "pygments_lexer": "ipython3",
   "version": "3.9.13"
  }
 },
 "nbformat": 4,
 "nbformat_minor": 5
}
